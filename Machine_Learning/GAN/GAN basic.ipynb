{
 "cells": [
  {
   "cell_type": "code",
   "execution_count": 1,
   "metadata": {},
   "outputs": [
    {
     "name": "stdout",
     "output_type": "stream",
     "text": [
      "hdf5 is not supported on this machine (please install/reinstall h5py for optimal experience)\n",
      "curses is not supported on this machine (please install/reinstall curses for an optimal experience)\n"
     ]
    }
   ],
   "source": [
    "import matplotlib.pyplot as plt\n",
    "import numpy as np\n",
    "import tensorflow as tf\n",
    "import tflearn"
   ]
  },
  {
   "cell_type": "markdown",
   "metadata": {},
   "source": [
    "### Data loading and preprocessing"
   ]
  },
  {
   "cell_type": "code",
   "execution_count": 6,
   "metadata": {},
   "outputs": [
    {
     "name": "stdout",
     "output_type": "stream",
     "text": [
      "Extracting mnist/train-images-idx3-ubyte.gz\n",
      "Extracting mnist/train-labels-idx1-ubyte.gz\n",
      "Extracting mnist/t10k-images-idx3-ubyte.gz\n",
      "Extracting mnist/t10k-labels-idx1-ubyte.gz\n"
     ]
    }
   ],
   "source": [
    "import tflearn.datasets.mnist as mnist\n",
    "X, Y, testX, testY = mnist.load_data()"
   ]
  },
  {
   "cell_type": "markdown",
   "metadata": {},
   "source": [
    "### Define parameter"
   ]
  },
  {
   "cell_type": "code",
   "execution_count": 14,
   "metadata": {
    "collapsed": true
   },
   "outputs": [],
   "source": [
    "tf.reset_default_graph()\n",
    "image_dim = 28 * 28\n",
    "z_dim = 128\n",
    "total_samples = len(X)"
   ]
  },
  {
   "cell_type": "markdown",
   "metadata": {},
   "source": [
    "### Define Generator and Discriminator"
   ]
  },
  {
   "cell_type": "code",
   "execution_count": 15,
   "metadata": {
    "collapsed": true
   },
   "outputs": [],
   "source": [
    "def generator(x, reuse=False):\n",
    "    with tf.variable_scope(\"Generator\", reuse=reuse):\n",
    "        x = tflearn.fully_connected(x, 256, activation=\"relu\")\n",
    "        x = tflearn.fully_connected(x, image_dim, activation=\"sigmoid\")\n",
    "        return x"
   ]
  },
  {
   "cell_type": "code",
   "execution_count": 16,
   "metadata": {
    "collapsed": true
   },
   "outputs": [],
   "source": [
    "def discriminator(x, reuse=False):\n",
    "    with tf.variable_scope(\"Discriminator\", reuse=reuse):\n",
    "        x = tflearn.fully_connected(x, 256, activation=\"relu\")\n",
    "        x = tflearn.fully_connected(x, 1, activation=\"sigmoid\")\n",
    "        return x"
   ]
  },
  {
   "cell_type": "markdown",
   "metadata": {},
   "source": [
    "### Build Networks"
   ]
  },
  {
   "cell_type": "code",
   "execution_count": 17,
   "metadata": {
    "collapsed": true
   },
   "outputs": [],
   "source": [
    "gen_input = tflearn.input_data(shape=[None, z_dim], name=\"input_noise\")\n",
    "disc_input = tflearn.input_data(shape=[None, image_dim], name=\"disc_input\")"
   ]
  },
  {
   "cell_type": "markdown",
   "metadata": {},
   "source": [
    "`gen_sample`: input 128 → hidden 256 → fake_image 28 \\* 28  \n",
    "`disc_real`: real_image 28 \\* 28 → hidden 256 → result 1  \n",
    "`disc_fake`: fake_image 28 \\* 28 → hidden 256 → result 1  "
   ]
  },
  {
   "cell_type": "code",
   "execution_count": 18,
   "metadata": {},
   "outputs": [],
   "source": [
    "gen_sample = generator(gen_input)  # input 128 -> hidden 256 -> fake_image 28 * 28\n",
    "disc_real = discriminator(disc_input)  # real_image 28 * 28 -> hidden 256 -> result 1\n",
    "disc_fake = discriminator(gen_sample, reuse=True)  # fake_image 28 * 28 -> hidden 256 -> result 1"
   ]
  },
  {
   "cell_type": "markdown",
   "metadata": {},
   "source": [
    "### Define Loss function\n",
    "`loss`에 대한 수식은 [참고](https://github.com/golbin/TensorFlow-Tutorials/blob/master/07%20-%20GAN/01%20-%20GAN.py#L76:L89)"
   ]
  },
  {
   "cell_type": "code",
   "execution_count": 19,
   "metadata": {
    "collapsed": true
   },
   "outputs": [],
   "source": [
    "disc_loss = -tf.reduce_mean(tf.log(disc_real) + tf.log(1 - disc_fake))\n",
    "gen_loss = -tf.reduce_mean(tf.log(disc_fake))"
   ]
  },
  {
   "cell_type": "markdown",
   "metadata": {},
   "source": [
    "### Build training ops"
   ]
  },
  {
   "cell_type": "code",
   "execution_count": 20,
   "metadata": {
    "collapsed": true
   },
   "outputs": [],
   "source": [
    "gen_vars = tflearn.get_layer_variables_by_scope(\"Generator\")\n",
    "gen_model = tflearn.regression(gen_sample,\n",
    "                              placeholder=None,\n",
    "                              optimizer=\"adam\",\n",
    "                              loss=gen_loss,\n",
    "                              trainable_vars=gen_vars,\n",
    "                              batch_size=64,\n",
    "                              name=\"target_gen\",\n",
    "                              op_name=\"GEN\")"
   ]
  },
  {
   "cell_type": "code",
   "execution_count": 21,
   "metadata": {
    "collapsed": true
   },
   "outputs": [],
   "source": [
    "disc_vars = tflearn.get_layer_variables_by_scope(\"Discriminator\")\n",
    "disc_model = tflearn.regression(disc_real,\n",
    "                              placeholder=None,\n",
    "                              optimizer=\"adam\",\n",
    "                              loss=disc_loss,\n",
    "                              trainable_vars=disc_vars,\n",
    "                              batch_size=64,\n",
    "                              name=\"target_disc\",\n",
    "                              op_name=\"DISC\")"
   ]
  },
  {
   "cell_type": "markdown",
   "metadata": {},
   "source": [
    "### Define GAN model\n",
    "`output`: generated images"
   ]
  },
  {
   "cell_type": "code",
   "execution_count": 68,
   "metadata": {
    "collapsed": true
   },
   "outputs": [],
   "source": [
    "gan = tflearn.DNN(gen_model)"
   ]
  },
  {
   "cell_type": "markdown",
   "metadata": {},
   "source": [
    "### Training"
   ]
  },
  {
   "cell_type": "markdown",
   "metadata": {},
   "source": [
    "#### Generate noise"
   ]
  },
  {
   "cell_type": "code",
   "execution_count": 33,
   "metadata": {
    "scrolled": true
   },
   "outputs": [
    {
     "data": {
      "text/plain": [
       "(55000, 128)"
      ]
     },
     "execution_count": 33,
     "metadata": {},
     "output_type": "execute_result"
    }
   ],
   "source": [
    "z = np.random.uniform(-1, 1, size=[total_samples, z_dim])\n",
    "z.shape"
   ]
  },
  {
   "cell_type": "markdown",
   "metadata": {},
   "source": [
    "#### Feed noise and real image\n",
    "noise is converted to fake image"
   ]
  },
  {
   "cell_type": "code",
   "execution_count": 67,
   "metadata": {},
   "outputs": [],
   "source": [
    "def sampling():\n",
    "    sample_size = 5\n",
    "    fig, ax = plt.subplots(1, sample_size, figsize=(5, 1))\n",
    "    for i in range(sample_size):\n",
    "        sample_z = np.random.uniform(-1, 1, size=[1, z_dim])\n",
    "        ax[i].set_axis_off()\n",
    "        _ = ax[i].imshow(gan.predict([sample_z]).flatten().reshape(28, 28),\n",
    "                         cmap=\"gray\",\n",
    "                        interpolation=\"nearest\")\n",
    "    plt.savefig(\"samples/{}_basic.png\".format(str(epoch).zfill(3)), bbox_inches=\"tight\")\n",
    "    plt.show()"
   ]
  },
  {
   "cell_type": "code",
   "execution_count": 69,
   "metadata": {},
   "outputs": [
    {
     "name": "stdout",
     "output_type": "stream",
     "text": [
      "Training Step: 8599  | time: 8.802s\n",
      "| GEN | epoch: 010 | loss: 0.00000 -- iter: 54976/55000\n",
      "| DISC | epoch: 010 | loss: 0.00000 -- iter: 54976/55000\n",
      "Training Step: 8600  | time: 8.813s\n",
      "| GEN | epoch: 010 | loss: 0.00000 -- iter: 55000/55000\n",
      "| DISC | epoch: 010 | loss: 0.00000 -- iter: 55000/55000\n",
      "--\n"
     ]
    }
   ],
   "source": [
    "for epoch in range(10):\n",
    "    sampling()\n",
    "    \n",
    "    gan.fit(\n",
    "        X_inputs={\n",
    "            gen_input: z,\n",
    "            disc_input: X\n",
    "        },\n",
    "        Y_targets=None,\n",
    "        n_epoch=1\n",
    "    )"
   ]
  }
 ],
 "metadata": {
  "kernelspec": {
   "display_name": "Python 3",
   "language": "python",
   "name": "python3"
  },
  "language_info": {
   "codemirror_mode": {
    "name": "ipython",
    "version": 3
   },
   "file_extension": ".py",
   "mimetype": "text/x-python",
   "name": "python",
   "nbconvert_exporter": "python",
   "pygments_lexer": "ipython3",
   "version": "3.5.2"
  }
 },
 "nbformat": 4,
 "nbformat_minor": 2
}
