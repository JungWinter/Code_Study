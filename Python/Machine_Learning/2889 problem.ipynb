{
 "cells": [
  {
   "cell_type": "markdown",
   "metadata": {},
   "source": [
    "# 2889 Problem\n",
    "\n",
    "[원 트윗 출처](https://twitter.com/rosinality/status/869787582443466752)  \n",
    "<div style=\"float: left; clear: right;\">\n",
    "    <img alt=\"2889 problem\" src=\"https://pbs.twimg.com/media/DBIE0s0UwAACNRv.jpg\" width=\"400\">\n",
    "    <br><br>\n",
    "</div>\n",
    "\n",
    "<h2 style=\"clear: left;\">원하는 것</h2>\n",
    "<div style=\"float: left; clear: left;\">\n",
    "    ![answer](https://pbs.twimg.com/media/DBIbKsgVYAAtlkS.jpg)\n",
    "    <br>\n",
    "</div>\n",
    "\n",
    "<p style=\"clear: left;\">은닉 계층을 하나만 두고 머신 러닝으로 예측해보자!</p>"
   ]
  },
  {
   "cell_type": "markdown",
   "metadata": {},
   "source": [
    "### Input dataset"
   ]
  },
  {
   "cell_type": "code",
   "execution_count": 1,
   "metadata": {
    "collapsed": true
   },
   "outputs": [],
   "source": [
    "import numpy as np\n",
    "np.random.seed(42)\n",
    "X = np.array([\n",
    "    [7, 1, 1, 1],\n",
    "    [8, 8, 0, 9],\n",
    "    [2, 1, 7, 2],\n",
    "    [6, 6, 6, 6],\n",
    "    [1, 1, 1, 1],\n",
    "    [2, 2, 2, 2],\n",
    "    [7, 6, 6, 2],\n",
    "    [9, 3, 1, 3],\n",
    "    [0, 0, 0, 0],\n",
    "    [5, 5, 5, 5],\n",
    "    [8, 1, 9, 3],\n",
    "    [8, 0, 9, 6],\n",
    "    [4, 3, 9, 8],\n",
    "    [9, 4, 7, 5],\n",
    "    [9, 0, 3, 8],\n",
    "    [3, 1, 4, 8],\n",
    "])\n",
    "Y = np.array([[0, 6, 0, 4, 0, 0, 2, 1, 4, 0, 3, 5, 3, 1, 4, 2]]).T"
   ]
  },
  {
   "cell_type": "markdown",
   "metadata": {},
   "source": [
    "### One hot encoding"
   ]
  },
  {
   "cell_type": "code",
   "execution_count": 2,
   "metadata": {
    "scrolled": true
   },
   "outputs": [
    {
     "name": "stdout",
     "output_type": "stream",
     "text": [
      "(16, 4, 10)\n"
     ]
    }
   ],
   "source": [
    "T = np.zeros((*X.shape, 10))\n",
    "print(T.shape)\n",
    "for idx, row in enumerate(T):\n",
    "    row[range(X.shape[-1]), X[idx]] = 1"
   ]
  },
  {
   "cell_type": "code",
   "execution_count": 10,
   "metadata": {
    "scrolled": true
   },
   "outputs": [
    {
     "data": {
      "text/plain": [
       "(16, 40)"
      ]
     },
     "execution_count": 10,
     "metadata": {},
     "output_type": "execute_result"
    }
   ],
   "source": [
    "X0 = T.reshape(16, 40)\n",
    "X0.shape"
   ]
  },
  {
   "cell_type": "markdown",
   "metadata": {},
   "source": [
    "## 구조\n",
    "- input layer: 4x10=40\n",
    "- hidden node: 10\n",
    "- output node: 1"
   ]
  },
  {
   "cell_type": "code",
   "execution_count": 56,
   "metadata": {
    "collapsed": true
   },
   "outputs": [],
   "source": [
    "def sigmoid(x):\n",
    "    return 1/(1 + np.exp(-x))\n",
    "\n",
    "def sigmoid_grad(x):\n",
    "    return (1 - sigmoid(x)) * sigmoid(x)\n",
    "\n",
    "def relu(x):\n",
    "    return np.maximum(0, x)\n",
    "\n",
    "def relu_grad(x):\n",
    "    grad = np.zeros(x)\n",
    "    grad[x >= 0] = 1\n",
    "    return grad\n",
    "\n",
    "def mean_squared_error(y, t):\n",
    "    return 0.5 * np.mean((y-t)**2)"
   ]
  },
  {
   "cell_type": "code",
   "execution_count": 132,
   "metadata": {
    "collapsed": true
   },
   "outputs": [],
   "source": [
    "# Relu면 2, Sigmoid면 1\n",
    "scale = np.sqrt(1.0 / 40)\n",
    "W0 = scale * np.random.randn(40, 10)\n",
    "b0 = np.zeros(10)\n",
    "\n",
    "scale = np.sqrt(1.0 / 10)\n",
    "W1 = scale * np.random.randn(10, 1)\n",
    "b1 = np.zeros(1)\n",
    "\n",
    "error_history = []\n",
    "\n"
   ]
  },
  {
   "cell_type": "markdown",
   "metadata": {},
   "source": [
    "```python\n",
    "dx = dout @ self.W.T\n",
    "self.dW = self.x.T @ dout\n",
    "self.db = np.sum(dout, axis=0)\n",
    "return dx\n",
    "```"
   ]
  },
  {
   "cell_type": "code",
   "execution_count": 133,
   "metadata": {
    "scrolled": false
   },
   "outputs": [
    {
     "name": "stdout",
     "output_type": "stream",
     "text": [
      "error:  4.92573829849\n",
      "error:  4.78453369191\n"
     ]
    }
   ],
   "source": [
    "for i in range(50):\n",
    "    # forward propagation\n",
    "    A0 = X0 @ W0 + b0 # (16 x 40) @ (40 x 10)= (16 x 10)\n",
    "    Y1 = sigmoid(A0)  # (16 x 10)\n",
    "    Y2 = Y1 @ W1 + b1 # (16 x 10) @ (10 x 1) = (16 x 1)\n",
    "\n",
    "    # 예측한 것과 정답을 비교해 error를 산출\n",
    "    # E2 = Y - Y2\n",
    "    E2 = mean_squared_error(Y2, Y)\n",
    "    error_history.append(E2)\n",
    "    # 에러와 나아갈 방향을 곱한다\n",
    "    delta2 = E2 * Y2  # (16 x 1)\n",
    "\n",
    "    # 이부분이 바로 역전파 부분\n",
    "    # 히든레이어의 오차와 delta값을 정한다.\n",
    "    E1 = delta2 @ W1.T  # (16 x 1) @ (1 x 10) = (16 x 10)\n",
    "    delta1 = E1 * sigmoid_grad(Y1)  # (16 x 10)\n",
    "\n",
    "    # 갱신\n",
    "    W1 -= 0.01 * (Y1.T @ delta2)  # (10 x 16) @ (16 x 1) = (10 x 1)\n",
    "    W0 -= 0.01 * (X0.T @ delta1)  # (40 x 16) @ (16 x 10) = (40 x 10)\n",
    "    b1 -= 0.01 * 1 * np.sum(delta2, axis=0)\n",
    "    b0 -= 0.01 * 1 * np.sum(delta1, axis=0)\n",
    "    # print(\"W0 mean: \", W0.mean())\n",
    "    # print(\"W1 mean: \", W1.mean())\n",
    "    # print(\"b0 mean: \", b0.mean())\n",
    "    # print(\"b1 mean: \", b1.mean())"
   ]
  },
  {
   "cell_type": "code",
   "execution_count": 134,
   "metadata": {},
   "outputs": [
    {
     "data": {
      "image/png": "[encoded data removed]",
      "text/plain": [
       "<matplotlib.figure.Figure at 0x107208d30>"
      ]
     },
     "metadata": {},
     "output_type": "display_data"
    }
   ],
   "source": [
    "import matplotlib.pyplot as plt\n",
    "plt.plot(error_history)\n",
    "plt.xlim(0, 50)\n",
    "plt.show();"
   ]
  },
  {
   "cell_type": "code",
   "execution_count": 142,
   "metadata": {},
   "outputs": [
    {
     "name": "stdout",
     "output_type": "stream",
     "text": [
      "[[-0.06898345]\n",
      " [-0.08148264]\n",
      " [-0.12036311]\n",
      " [-0.16684199]\n",
      " [-0.14514586]\n",
      " [-0.12772283]\n",
      " [-0.11890941]\n",
      " [-0.09170751]\n",
      " [-0.07682953]\n",
      " [-0.15837725]\n",
      " [-0.07933739]\n",
      " [-0.14245897]\n",
      " [-0.12851169]\n",
      " [-0.13651676]\n",
      " [-0.15104808]\n",
      " [-0.13704426]]\n"
     ]
    }
   ],
   "source": [
    "A0 = X0 @ W0 + b0\n",
    "Y1 = sigmoid(A0)\n",
    "Y2 = Y1 @ W1 + b1\n",
    "print(Y2)"
   ]
  },
  {
   "cell_type": "markdown",
   "metadata": {},
   "source": [
    "### Test Case"
   ]
  },
  {
   "cell_type": "code",
   "execution_count": 50,
   "metadata": {
    "collapsed": true
   },
   "outputs": [],
   "source": [
    "def refine(x):\n",
    "    '''\n",
    "    some refinement process\n",
    "    '''\n",
    "    return x"
   ]
  },
  {
   "cell_type": "code",
   "execution_count": 51,
   "metadata": {
    "collapsed": true
   },
   "outputs": [],
   "source": [
    "def test(problem, answer):\n",
    "    _problem = problem\n",
    "    _real_answer = answer\n",
    "    try:\n",
    "        _X = refine(_problem)\n",
    "        _Y = network.predict(_X)\n",
    "    except:\n",
    "        _X, _Y = 0, 0\n",
    "    print(\"====== TEST CASE =====\")\n",
    "    print(\"problem\\t\\t:\", _problem)\n",
    "    print(\"real answer\\t:\", _real_answer)\n",
    "    print(\"got answer\\t:\", _Y)\n",
    "    print(\"======================\")"
   ]
  },
  {
   "cell_type": "code",
   "execution_count": 52,
   "metadata": {
    "scrolled": true
   },
   "outputs": [
    {
     "name": "stdout",
     "output_type": "stream",
     "text": [
      "====== TEST CASE =====\n",
      "problem\t\t: 7111\n",
      "real answer\t: 0\n",
      "got answer\t: 0\n",
      "======================\n",
      "====== TEST CASE =====\n",
      "problem\t\t: 8809\n",
      "real answer\t: 6\n",
      "got answer\t: 0\n",
      "======================\n",
      "====== TEST CASE =====\n",
      "problem\t\t: 7662\n",
      "real answer\t: 2\n",
      "got answer\t: 0\n",
      "======================\n"
     ]
    }
   ],
   "source": [
    "test(\"7111\", \"0\")\n",
    "test(\"8809\", \"6\")\n",
    "test(\"7662\", \"2\")"
   ]
  }
 ],
 "metadata": {
  "kernelspec": {
   "display_name": "Python 3",
   "language": "python",
   "name": "python3"
  },
  "language_info": {
   "codemirror_mode": {
    "name": "ipython",
    "version": 3
   },
   "file_extension": ".py",
   "mimetype": "text/x-python",
   "name": "python",
   "nbconvert_exporter": "python",
   "pygments_lexer": "ipython3",
   "version": "3.6.1"
  }
 },
 "nbformat": 4,
 "nbformat_minor": 2
}
