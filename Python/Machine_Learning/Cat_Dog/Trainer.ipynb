{
 "cells": [
  {
   "cell_type": "code",
   "execution_count": 1,
   "metadata": {},
   "outputs": [],
   "source": [
    "import cv2\n",
    "import numpy as np\n",
    "import os\n",
    "import matplotlib.pyplot as plt\n",
    "from random import shuffle\n",
    "from tqdm import tqdm"
   ]
  },
  {
   "cell_type": "code",
   "execution_count": 2,
   "metadata": {
    "collapsed": true
   },
   "outputs": [],
   "source": [
    "TRAIN_DIR = \"./train\"\n",
    "TEST_DIR = \"./test\"\n",
    "IMG_SIZE = 50\n",
    "LR = 0.001"
   ]
  },
  {
   "cell_type": "code",
   "execution_count": 3,
   "metadata": {},
   "outputs": [],
   "source": [
    "MODEL_NAME = \"catdog-{}-{}.model\".format(LR, \"2conv-basic\")"
   ]
  },
  {
   "cell_type": "code",
   "execution_count": 4,
   "metadata": {},
   "outputs": [],
   "source": [
    "def convert_to_one_hot_label(img_name):\n",
    "    label = img_name.split(\".\")[0]\n",
    "    return [1, 0] if label == \"cat\" else [0, 1]"
   ]
  },
  {
   "cell_type": "code",
   "execution_count": 5,
   "metadata": {},
   "outputs": [],
   "source": [
    "assert convert_to_one_hot_label(\"cat.1234.jpg\") == [1, 0]\n",
    "assert convert_to_one_hot_label(\"dog.1234.jpg\") == [0, 1]"
   ]
  },
  {
   "cell_type": "code",
   "execution_count": 6,
   "metadata": {},
   "outputs": [],
   "source": [
    "def create_train_data():\n",
    "    train_data = []\n",
    "    for img_name in tqdm(os.listdir(TRAIN_DIR)):\n",
    "        one_hot_label = convert_to_one_hot_label(img_name)\n",
    "        path = os.path.join(TRAIN_DIR, img_name)\n",
    "        img = cv2.imread(path, cv2.IMREAD_GRAYSCALE)\n",
    "        img = cv2.resize(img, (IMG_SIZE, IMG_SIZE))\n",
    "        train_data.append([img, np.array(one_hot_label)])\n",
    "    np.random.shuffle(train_data)\n",
    "    np.save(\"train_data.npy\", train_data)\n",
    "    return train_data"
   ]
  },
  {
   "cell_type": "code",
   "execution_count": 7,
   "metadata": {},
   "outputs": [],
   "source": [
    "def create_test_data():\n",
    "    test_data = []\n",
    "    for img_name in tqdm(os.listdir(TEST_DIR)):\n",
    "        img_num = img_name.split(\".\")[0]\n",
    "        path = os.path.join(TEST_DIR, img_name)\n",
    "        img = cv2.imread(path, cv2.IMREAD_GRAYSCALE)\n",
    "        img = cv2.resize(img, (IMG_SIZE, IMG_SIZE))\n",
    "        test_data.append([img, img_num])\n",
    "    np.random.shuffle(test_data)\n",
    "    np.save(\"test_data.npy\", test_data)\n",
    "    return train_data"
   ]
  },
  {
   "cell_type": "code",
   "execution_count": 8,
   "metadata": {
    "collapsed": true
   },
   "outputs": [],
   "source": [
    "def load_data():\n",
    "    if os.path.exists(\"train_data.npy\"):\n",
    "        print(\"load train data\")\n",
    "        train_data = np.load(\"train_data.npy\")\n",
    "    else:\n",
    "        print(\"create train data\")\n",
    "        train_data = create_train_data()\n",
    "        \n",
    "    if os.path.exists(\"test_data.npy\"):\n",
    "        print(\"load test data\")\n",
    "        test_data = np.load(\"test_data.npy\")\n",
    "    else:\n",
    "        print(\"create test data\")\n",
    "        test_data = create_test_data()\n",
    "        \n",
    "    return train_data, test_data"
   ]
  },
  {
   "cell_type": "code",
   "execution_count": 9,
   "metadata": {
    "scrolled": true
   },
   "outputs": [
    {
     "name": "stdout",
     "output_type": "stream",
     "text": [
      "load train data\n",
      "load test data\n"
     ]
    }
   ],
   "source": [
    "train_data, test_data = load_data()"
   ]
  },
  {
   "cell_type": "markdown",
   "metadata": {},
   "source": [
    "## Define neural network"
   ]
  },
  {
   "cell_type": "code",
   "execution_count": 23,
   "metadata": {},
   "outputs": [],
   "source": [
    "import tflearn\n",
    "from tflearn.layers.conv import conv_2d, max_pool_2d\n",
    "from tflearn.layers.core import input_data, dropout, fully_connected\n",
    "from tflearn.layers.estimator import regression\n",
    "import tensorflow as tf"
   ]
  },
  {
   "cell_type": "code",
   "execution_count": 11,
   "metadata": {
    "collapsed": true
   },
   "outputs": [],
   "source": [
    "tf.reset_default_graph()\n",
    "\n",
    "net = input_data(shape=[None, IMG_SIZE, IMG_SIZE, 1], name=\"input\")\n",
    "net = conv_2d(net, 32, 5, activation=\"relu\")\n",
    "net = max_pool_2d(net, 5)\n",
    "\n",
    "net = conv_2d(net, 64, 5, activation=\"relu\")\n",
    "net = max_pool_2d(net, 5)\n",
    "\n",
    "net = fully_connected(net, 1024, activation=\"relu\")\n",
    "net = dropout(net, 0.8)\n",
    "\n",
    "net = fully_connected(net, 2, activation=\"softmax\")\n",
    "net = regression(\n",
    "    net, \n",
    "    optimizer=\"adam\", \n",
    "    learning_rate=LR, \n",
    "    loss=\"categorical_crossentropy\",\n",
    "    name=\"targets\"\n",
    ")\n",
    "\n",
    "model = tflearn.DNN(net, tensorboard_dir=\"log\")"
   ]
  },
  {
   "cell_type": "code",
   "execution_count": 18,
   "metadata": {
    "collapsed": true
   },
   "outputs": [],
   "source": [
    "if os.path.exists(\"model/{}.meta\".format(MODEL_NAME)):\n",
    "    model.load(MODEL_NAME)\n",
    "    print(\"LOAD MODEL: {}\".format(MODEL_NAME))"
   ]
  },
  {
   "cell_type": "markdown",
   "metadata": {},
   "source": [
    "## Split dataset"
   ]
  },
  {
   "cell_type": "code",
   "execution_count": 13,
   "metadata": {},
   "outputs": [],
   "source": [
    "from sklearn.model_selection import train_test_split\n",
    "\n",
    "X = train_data[:, 0]\n",
    "y = train_data[:, 1]\n",
    "X_train, X_test, y_train, y_test = train_test_split(X, y, test_size=0.2)"
   ]
  },
  {
   "cell_type": "code",
   "execution_count": 14,
   "metadata": {
    "scrolled": true
   },
   "outputs": [
    {
     "data": {
      "text/plain": [
       "(20000, 50, 50, 1)"
      ]
     },
     "execution_count": 14,
     "metadata": {},
     "output_type": "execute_result"
    },
    {
     "data": {
      "text/plain": [
       "(20000, 2)"
      ]
     },
     "execution_count": 14,
     "metadata": {},
     "output_type": "execute_result"
    }
   ],
   "source": [
    "X_train = np.array([i for i in X_train]).reshape(-1, IMG_SIZE, IMG_SIZE, 1)\n",
    "y_train = np.array([i for i in y_train])\n",
    "X_train.shape\n",
    "y_train.shape"
   ]
  },
  {
   "cell_type": "code",
   "execution_count": 15,
   "metadata": {},
   "outputs": [
    {
     "data": {
      "text/plain": [
       "(5000, 50, 50, 1)"
      ]
     },
     "execution_count": 15,
     "metadata": {},
     "output_type": "execute_result"
    },
    {
     "data": {
      "text/plain": [
       "(5000, 2)"
      ]
     },
     "execution_count": 15,
     "metadata": {},
     "output_type": "execute_result"
    }
   ],
   "source": [
    "X_test = np.array([i for i in X_test]).reshape(-1, IMG_SIZE, IMG_SIZE, 1)\n",
    "y_test = np.array([i for i in y_test])\n",
    "X_test.shape\n",
    "y_test.shape"
   ]
  },
  {
   "cell_type": "markdown",
   "metadata": {},
   "source": [
    "## Train model"
   ]
  },
  {
   "cell_type": "code",
   "execution_count": 16,
   "metadata": {
    "scrolled": true
   },
   "outputs": [
    {
     "name": "stdout",
     "output_type": "stream",
     "text": [
      "Training Step: 938  | total loss: 11.40833 | time: 3.890s\n",
      "| Adam | epoch: 003 | loss: 11.40833 - acc: 0.5045 -- iter: 19968/20000\n",
      "Training Step: 939  | total loss: 11.31085 | time: 4.951s\n",
      "| Adam | epoch: 003 | loss: 11.31085 - acc: 0.5088 | val_loss: 11.60042 - val_acc: 0.4962 -- iter: 20000/20000\n",
      "--\n"
     ]
    }
   ],
   "source": [
    "model.fit(\n",
    "    {\"input\": X_train},\n",
    "    {\"targets\": y_train},\n",
    "    n_epoch=3,\n",
    "    validation_set=(\n",
    "        {\"input\": X_test},\n",
    "        {\"targets\": y_test}\n",
    "    ),\n",
    "    snapshot_step=500,\n",
    "    show_metric=True,\n",
    "    run_id=MODEL_NAME\n",
    ")"
   ]
  },
  {
   "cell_type": "code",
   "execution_count": 22,
   "metadata": {
    "scrolled": true
   },
   "outputs": [
    {
     "name": "stdout",
     "output_type": "stream",
     "text": [
      "INFO:tensorflow:C:\\Users\\WinterJ\\Documents\\GitHub\\python\\Code_Study\\Machine_Learning\\Cat_Dog\\model\\catdog-0.001-2conv-basic.model is not in all_model_checkpoint_paths. Manually adding it.\n"
     ]
    }
   ],
   "source": [
    "model.save(\"model/\"+MODEL_NAME)"
   ]
  },
  {
   "cell_type": "markdown",
   "metadata": {},
   "source": [
    "## Train another model"
   ]
  },
  {
   "cell_type": "code",
   "execution_count": 98,
   "metadata": {},
   "outputs": [
    {
     "name": "stdout",
     "output_type": "stream",
     "text": [
      "Training Step: 2816  | total loss: 0.37132 | time: 10.880s\n",
      "| Adam | epoch: 009 | loss: 0.37132 - acc: 0.8478 -- iter: 19968/20000\n",
      "Training Step: 2817  | total loss: 0.37275 | time: 12.063s\n",
      "| Adam | epoch: 009 | loss: 0.37275 - acc: 0.8443 | val_loss: 0.41001 - val_acc: 0.8236 -- iter: 20000/20000\n",
      "--\n"
     ]
    }
   ],
   "source": [
    "LR = 0.0003\n",
    "MODEL_NAME = \"catdog-{}-{}.model\".format(LR, \"12conv-1full-2\")\n",
    "\n",
    "tf.reset_default_graph()\n",
    "\n",
    "net = input_data(shape=[None, IMG_SIZE, IMG_SIZE, 1], name=\"input\")\n",
    "net = conv_2d(net, 16, 7, activation=\"relu\")\n",
    "net = conv_2d(net, 32, 5, activation=\"relu\")\n",
    "net = conv_2d(net, 64, 3, activation=\"relu\")\n",
    "net = max_pool_2d(net, 5)\n",
    "\n",
    "net = conv_2d(net, 16, 7, activation=\"relu\")\n",
    "net = conv_2d(net, 32, 5, activation=\"relu\")\n",
    "net = conv_2d(net, 64, 3, activation=\"relu\")\n",
    "net = max_pool_2d(net, 5)\n",
    "\n",
    "net = conv_2d(net, 16, 5, activation=\"relu\")\n",
    "net = conv_2d(net, 32, 5, activation=\"relu\")\n",
    "net = conv_2d(net, 64, 5, activation=\"relu\")\n",
    "net = max_pool_2d(net, 2)\n",
    "\n",
    "net = conv_2d(net, 16, 3, activation=\"relu\")\n",
    "net = conv_2d(net, 32, 3, activation=\"relu\")\n",
    "net = conv_2d(net, 64, 3, activation=\"relu\")\n",
    "net = max_pool_2d(net, 2)\n",
    "\n",
    "net = fully_connected(net, 1024, activation=\"relu\")\n",
    "net = dropout(net, 0.6)\n",
    "\n",
    "net = fully_connected(net, 2, activation=\"softmax\")\n",
    "net = regression(\n",
    "    net, \n",
    "    optimizer=\"adam\", \n",
    "    learning_rate=LR, \n",
    "    loss=\"categorical_crossentropy\",\n",
    "    name=\"targets\"\n",
    ")\n",
    "\n",
    "model = tflearn.DNN(net, tensorboard_dir=\"log\")\n",
    "\n",
    "model.fit(\n",
    "    {\"input\": X_train},\n",
    "    {\"targets\": y_train},\n",
    "    n_epoch=9,\n",
    "    validation_set=(\n",
    "        {\"input\": X_test},\n",
    "        {\"targets\": y_test}\n",
    "    ),\n",
    "    snapshot_step=500,\n",
    "    show_metric=True,\n",
    "    run_id=MODEL_NAME\n",
    ")"
   ]
  },
  {
   "cell_type": "code",
   "execution_count": 99,
   "metadata": {
    "scrolled": false
   },
   "outputs": [
    {
     "name": "stdout",
     "output_type": "stream",
     "text": [
      "INFO:tensorflow:C:\\Users\\WinterJ\\Documents\\GitHub\\python\\Code_Study\\Machine_Learning\\Cat_Dog\\model\\catdog-0.0003-12conv-1full-2.model is not in all_model_checkpoint_paths. Manually adding it.\n"
     ]
    }
   ],
   "source": [
    "model.save(\"model/\"+MODEL_NAME)"
   ]
  },
  {
   "cell_type": "markdown",
   "metadata": {},
   "source": [
    "## Kaggle keras"
   ]
  },
  {
   "cell_type": "code",
   "execution_count": 113,
   "metadata": {
    "collapsed": true
   },
   "outputs": [],
   "source": [
    "IMG_SIZE = 64"
   ]
  },
  {
   "cell_type": "code",
   "execution_count": 114,
   "metadata": {
    "collapsed": true
   },
   "outputs": [],
   "source": [
    "def convert_to_one_hot_label(img_name):\n",
    "    label = img_name.split(\".\")[0]\n",
    "    return [1, 0] if label == \"cat\" else [0, 1]"
   ]
  },
  {
   "cell_type": "code",
   "execution_count": 115,
   "metadata": {
    "collapsed": true
   },
   "outputs": [],
   "source": [
    "def create_train_data():\n",
    "    train_data = []\n",
    "    for img_name in tqdm(os.listdir(TRAIN_DIR)):\n",
    "        one_hot_label = convert_to_one_hot_label(img_name)\n",
    "        path = os.path.join(TRAIN_DIR, img_name)\n",
    "        img = cv2.imread(path, cv2.IMREAD_GRAYSCALE)\n",
    "        img = cv2.resize(img, (IMG_SIZE, IMG_SIZE))\n",
    "        train_data.append([img, np.array(one_hot_label)])\n",
    "    np.random.shuffle(train_data)\n",
    "    np.save(\"train_data_64.npy\", train_data)\n",
    "    return train_data"
   ]
  },
  {
   "cell_type": "code",
   "execution_count": 116,
   "metadata": {
    "collapsed": true
   },
   "outputs": [],
   "source": [
    "def create_test_data():\n",
    "    test_data = []\n",
    "    for img_name in tqdm(os.listdir(TEST_DIR)):\n",
    "        img_num = img_name.split(\".\")[0]\n",
    "        path = os.path.join(TEST_DIR, img_name)\n",
    "        img = cv2.imread(path, cv2.IMREAD_GRAYSCALE)\n",
    "        img = cv2.resize(img, (IMG_SIZE, IMG_SIZE))\n",
    "        test_data.append([img, img_num])\n",
    "    np.random.shuffle(test_data)\n",
    "    np.save(\"test_data_64.npy\", test_data)\n",
    "    return train_data"
   ]
  },
  {
   "cell_type": "code",
   "execution_count": 117,
   "metadata": {
    "collapsed": true
   },
   "outputs": [],
   "source": [
    "def load_data():\n",
    "    if os.path.exists(\"train_data_64.npy\"):\n",
    "        print(\"load train data\")\n",
    "        train_data = np.load(\"train_data_64.npy\")\n",
    "    else:\n",
    "        print(\"create train data\")\n",
    "        train_data = create_train_data()\n",
    "        \n",
    "    if os.path.exists(\"test_data_64.npy\"):\n",
    "        print(\"load test data\")\n",
    "        test_data = np.load(\"test_data_64.npy\")\n",
    "    else:\n",
    "        print(\"create test data\")\n",
    "        test_data = create_test_data()\n",
    "        \n",
    "    return train_data, test_data"
   ]
  },
  {
   "cell_type": "code",
   "execution_count": 123,
   "metadata": {
    "scrolled": true
   },
   "outputs": [
    {
     "name": "stdout",
     "output_type": "stream",
     "text": [
      "load train data\n",
      "load test data\n"
     ]
    }
   ],
   "source": [
    "train_data, test_data = load_data()"
   ]
  },
  {
   "cell_type": "markdown",
   "metadata": {},
   "source": [
    "## Split dataset"
   ]
  },
  {
   "cell_type": "code",
   "execution_count": 125,
   "metadata": {},
   "outputs": [],
   "source": [
    "from sklearn.model_selection import train_test_split\n",
    "\n",
    "X = train_data[:, 0]\n",
    "y = train_data[:, 1]\n",
    "X_train, X_test, y_train, y_test = train_test_split(X, y, test_size=0.2)"
   ]
  },
  {
   "cell_type": "code",
   "execution_count": 128,
   "metadata": {
    "scrolled": true
   },
   "outputs": [
    {
     "data": {
      "text/plain": [
       "(20000, 64, 64, 1)"
      ]
     },
     "execution_count": 128,
     "metadata": {},
     "output_type": "execute_result"
    },
    {
     "data": {
      "text/plain": [
       "(20000, 2)"
      ]
     },
     "execution_count": 128,
     "metadata": {},
     "output_type": "execute_result"
    }
   ],
   "source": [
    "X_train = np.array([i for i in X_train]).reshape(-1, IMG_SIZE, IMG_SIZE, 1)\n",
    "y_train = np.array([i for i in y_train])\n",
    "X_train.shape\n",
    "y_train.shape"
   ]
  },
  {
   "cell_type": "code",
   "execution_count": 129,
   "metadata": {},
   "outputs": [
    {
     "data": {
      "text/plain": [
       "(5000, 64, 64, 1)"
      ]
     },
     "execution_count": 129,
     "metadata": {},
     "output_type": "execute_result"
    },
    {
     "data": {
      "text/plain": [
       "(5000, 2)"
      ]
     },
     "execution_count": 129,
     "metadata": {},
     "output_type": "execute_result"
    }
   ],
   "source": [
    "X_test = np.array([i for i in X_test]).reshape(-1, IMG_SIZE, IMG_SIZE, 1)\n",
    "y_test = np.array([i for i in y_test])\n",
    "X_test.shape\n",
    "y_test.shape"
   ]
  },
  {
   "cell_type": "markdown",
   "metadata": {},
   "source": [
    "## Train model"
   ]
  },
  {
   "cell_type": "code",
   "execution_count": 130,
   "metadata": {},
   "outputs": [
    {
     "name": "stdout",
     "output_type": "stream",
     "text": [
      "Training Step: 2816  | total loss: 0.14867 | time: 16.547s\n",
      "| RMSProp | epoch: 009 | loss: 0.14867 - acc: 0.9469 -- iter: 19968/20000\n",
      "Training Step: 2817  | total loss: 0.14068 | time: 17.816s\n",
      "| RMSProp | epoch: 009 | loss: 0.14068 - acc: 0.9491 | val_loss: 0.49029 - val_acc: 0.8504 -- iter: 20000/20000\n",
      "--\n"
     ]
    }
   ],
   "source": [
    "LR = 0.0003\n",
    "MODEL_NAME = \"catdog-{}-{}.model\".format(LR, \"keras-1\")\n",
    "\n",
    "tf.reset_default_graph()\n",
    "\n",
    "net = input_data(shape=[None, IMG_SIZE, IMG_SIZE, 1], name=\"input\")\n",
    "net = conv_2d(net, 32, 3, activation=\"relu\")\n",
    "net = conv_2d(net, 32, 3, activation=\"relu\")\n",
    "net = max_pool_2d(net, 2)\n",
    "\n",
    "net = conv_2d(net, 64, 3, activation=\"relu\")\n",
    "net = conv_2d(net, 64, 3, activation=\"relu\")\n",
    "net = max_pool_2d(net, 2)\n",
    "\n",
    "net = conv_2d(net, 128, 3, activation=\"relu\")\n",
    "net = conv_2d(net, 128, 3, activation=\"relu\")\n",
    "net = max_pool_2d(net, 2)\n",
    "\n",
    "net = conv_2d(net, 256, 3, activation=\"relu\")\n",
    "net = conv_2d(net, 256, 3, activation=\"relu\")\n",
    "net = max_pool_2d(net, 2)\n",
    "\n",
    "net = fully_connected(net, 256, activation=\"relu\")\n",
    "net = dropout(net, 0.5)\n",
    "\n",
    "net = fully_connected(net, 256, activation=\"relu\")\n",
    "net = dropout(net, 0.5)\n",
    "\n",
    "net = fully_connected(net, 2, activation=\"softmax\")\n",
    "net = regression(\n",
    "    net, \n",
    "    optimizer=\"rmsprop\", \n",
    "    learning_rate=LR, \n",
    "    loss=\"categorical_crossentropy\",\n",
    "    name=\"targets\"\n",
    ")\n",
    "\n",
    "model = tflearn.DNN(net, tensorboard_dir=\"log\")\n",
    "\n",
    "model.fit(\n",
    "    {\"input\": X_train},\n",
    "    {\"targets\": y_train},\n",
    "    n_epoch=9,\n",
    "    validation_set=(\n",
    "        {\"input\": X_test},\n",
    "        {\"targets\": y_test}\n",
    "    ),\n",
    "    snapshot_step=500,\n",
    "    show_metric=True,\n",
    "    run_id=MODEL_NAME\n",
    ")"
   ]
  },
  {
   "cell_type": "code",
   "execution_count": 131,
   "metadata": {
    "scrolled": true
   },
   "outputs": [
    {
     "name": "stdout",
     "output_type": "stream",
     "text": [
      "INFO:tensorflow:C:\\Users\\WinterJ\\Documents\\GitHub\\python\\Code_Study\\Machine_Learning\\Cat_Dog\\model\\catdog-0.0003-keras-1.model is not in all_model_checkpoint_paths. Manually adding it.\n"
     ]
    }
   ],
   "source": [
    "model.save(\"model/\"+MODEL_NAME)"
   ]
  },
  {
   "cell_type": "markdown",
   "metadata": {},
   "source": [
    "## Check by image"
   ]
  },
  {
   "cell_type": "code",
   "execution_count": 154,
   "metadata": {},
   "outputs": [
    {
     "data": {
      "image/png": "[encoded data removed]",
      "text/plain": [
       "<matplotlib.figure.Figure at 0x1ef99223390>"
      ]
     },
     "metadata": {},
     "output_type": "display_data"
    }
   ],
   "source": [
    "fig = plt.figure(figsize=(16, 12))\n",
    "for num, data in enumerate(test_data[np.random.choice(range(0, 12500), 12)], 1):\n",
    "    img_num = data[1]\n",
    "    img_data = data[0]\n",
    "    \n",
    "    subplot = fig.add_subplot(3, 4, num)\n",
    "    img = img_data.reshape(IMG_SIZE, IMG_SIZE, 1)\n",
    "    predict = model.predict([img])[0]\n",
    "    \n",
    "    if np.argmax(predict) == 1:\n",
    "        label = \"Dog {:.2f}%\".format(float(max(predict)) * 100)\n",
    "    else:\n",
    "        label = \"Cat {:.2f}%\".format(float(max(predict)) * 100)\n",
    "        \n",
    "    subplot.imshow(img_data, cmap=\"gray\")\n",
    "    plt.title(label)\n",
    "    subplot.axes.get_xaxis().set_visible(False)\n",
    "    subplot.axes.get_xaxis().set_visible(False)\n",
    "plt.show();"
   ]
  },
  {
   "cell_type": "markdown",
   "metadata": {},
   "source": [
    "## Make submission file"
   ]
  },
  {
   "cell_type": "code",
   "execution_count": 155,
   "metadata": {},
   "outputs": [
    {
     "data": {
      "text/plain": [
       "9"
      ]
     },
     "execution_count": 155,
     "metadata": {},
     "output_type": "execute_result"
    },
    {
     "name": "stderr",
     "output_type": "stream",
     "text": [
      "100%|████████████████████████████████| 12500/12500 [00:25<00:00, 484.79it/s]\n"
     ]
    },
    {
     "data": {
      "text/plain": [
       "314686"
      ]
     },
     "execution_count": 155,
     "metadata": {},
     "output_type": "execute_result"
    }
   ],
   "source": [
    "with open(\"submission_3.csv\", \"w\") as fp:\n",
    "    fp.write(\"id,label\\n\")\n",
    "    string = \"\"\n",
    "    for data in tqdm(test_data):\n",
    "        img_num = data[1]\n",
    "        img_data = data[0]\n",
    "        img = img_data.reshape(IMG_SIZE, IMG_SIZE, 1)\n",
    "        model_out = model.predict([img])[0]\n",
    "        string += \"{},{}\\n\".format(img_num, model_out[1])\n",
    "    fp.write(string)"
   ]
  }
 ],
 "metadata": {
  "kernelspec": {
   "display_name": "Python 3",
   "language": "python",
   "name": "python3"
  },
  "language_info": {
   "codemirror_mode": {
    "name": "ipython",
    "version": 3
   },
   "file_extension": ".py",
   "mimetype": "text/x-python",
   "name": "python",
   "nbconvert_exporter": "python",
   "pygments_lexer": "ipython3",
   "version": "3.5.2"
  }
 },
 "nbformat": 4,
 "nbformat_minor": 2
}
