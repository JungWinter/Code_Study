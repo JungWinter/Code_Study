{
 "cells": [
  {
   "cell_type": "code",
   "execution_count": 1,
   "metadata": {},
   "outputs": [
    {
     "name": "stdout",
     "output_type": "stream",
     "text": [
      "hdf5 is not supported on this machine (please install/reinstall h5py for optimal experience)\n",
      "curses is not supported on this machine (please install/reinstall curses for an optimal experience)\n"
     ]
    }
   ],
   "source": [
    "import os\n",
    "import tflearn\n",
    "import numpy as np\n",
    "import matplotlib.pyplot as plt\n",
    "import tensorflow as tf\n",
    "from tqdm import tqdm"
   ]
  },
  {
   "cell_type": "code",
   "execution_count": 2,
   "metadata": {
    "collapsed": true
   },
   "outputs": [],
   "source": [
    "import pandas as pd"
   ]
  },
  {
   "cell_type": "markdown",
   "metadata": {},
   "source": [
    "# 데이터 준비"
   ]
  },
  {
   "cell_type": "markdown",
   "metadata": {},
   "source": [
    "## 데이터 셋 살펴보기"
   ]
  },
  {
   "cell_type": "code",
   "execution_count": 3,
   "metadata": {
    "scrolled": false
   },
   "outputs": [
    {
     "data": {
      "text/html": [
       "<div>\n",
       "<table border=\"1\" class=\"dataframe\">\n",
       "  <thead>\n",
       "    <tr style=\"text-align: right;\">\n",
       "      <th></th>\n",
       "      <th>date_id</th>\n",
       "      <th>datetime_id</th>\n",
       "      <th>market</th>\n",
       "      <th>rpt_key</th>\n",
       "      <th>last</th>\n",
       "      <th>diff_24h</th>\n",
       "      <th>diff_per_24h</th>\n",
       "      <th>bid</th>\n",
       "      <th>ask</th>\n",
       "      <th>low</th>\n",
       "      <th>high</th>\n",
       "      <th>volume</th>\n",
       "      <th>created_at</th>\n",
       "      <th>updated_at</th>\n",
       "    </tr>\n",
       "  </thead>\n",
       "  <tbody>\n",
       "    <tr>\n",
       "      <th>0</th>\n",
       "      <td>2017-05-31</td>\n",
       "      <td>2017-06-01 00:00:00</td>\n",
       "      <td>bitstamp</td>\n",
       "      <td>btc_eur</td>\n",
       "      <td>1996.72</td>\n",
       "      <td>2029.99</td>\n",
       "      <td>-1.638924</td>\n",
       "      <td>2005.50</td>\n",
       "      <td>2005.56</td>\n",
       "      <td>1950.00</td>\n",
       "      <td>2063.73</td>\n",
       "      <td>2314.500750</td>\n",
       "      <td>2017-05-31 14:59:36</td>\n",
       "      <td>2017-05-31 14:59:36</td>\n",
       "    </tr>\n",
       "    <tr>\n",
       "      <th>1</th>\n",
       "      <td>2017-05-31</td>\n",
       "      <td>2017-06-01 00:00:00</td>\n",
       "      <td>bitflyer</td>\n",
       "      <td>btc_jpy</td>\n",
       "      <td>267098.00</td>\n",
       "      <td>269649.00</td>\n",
       "      <td>-0.946045</td>\n",
       "      <td>267124.00</td>\n",
       "      <td>267267.00</td>\n",
       "      <td>267124.00</td>\n",
       "      <td>267267.00</td>\n",
       "      <td>70922.880112</td>\n",
       "      <td>2017-05-31 14:59:36</td>\n",
       "      <td>2017-05-31 14:59:36</td>\n",
       "    </tr>\n",
       "    <tr>\n",
       "      <th>2</th>\n",
       "      <td>2017-05-31</td>\n",
       "      <td>2017-06-01 00:00:00</td>\n",
       "      <td>korbit</td>\n",
       "      <td>btc_krw</td>\n",
       "      <td>3003500.00</td>\n",
       "      <td>3140000.00</td>\n",
       "      <td>-4.347134</td>\n",
       "      <td>3003500.00</td>\n",
       "      <td>3004000.00</td>\n",
       "      <td>3002000.00</td>\n",
       "      <td>3209500.00</td>\n",
       "      <td>6109.752872</td>\n",
       "      <td>2017-05-31 14:59:36</td>\n",
       "      <td>2017-05-31 14:59:36</td>\n",
       "    </tr>\n",
       "    <tr>\n",
       "      <th>3</th>\n",
       "      <td>2017-05-31</td>\n",
       "      <td>2017-06-01 00:00:00</td>\n",
       "      <td>bitstamp</td>\n",
       "      <td>btc_usd</td>\n",
       "      <td>2237.40</td>\n",
       "      <td>2239.37</td>\n",
       "      <td>-0.087971</td>\n",
       "      <td>2233.09</td>\n",
       "      <td>2237.40</td>\n",
       "      <td>2154.28</td>\n",
       "      <td>2293.46</td>\n",
       "      <td>13681.282017</td>\n",
       "      <td>2017-05-31 14:59:36</td>\n",
       "      <td>2017-05-31 14:59:36</td>\n",
       "    </tr>\n",
       "    <tr>\n",
       "      <th>4</th>\n",
       "      <td>2017-05-31</td>\n",
       "      <td>2017-06-01 00:00:00</td>\n",
       "      <td>okcoin</td>\n",
       "      <td>btc_usd</td>\n",
       "      <td>2318.82</td>\n",
       "      <td>2228.70</td>\n",
       "      <td>4.043613</td>\n",
       "      <td>2319.40</td>\n",
       "      <td>2319.99</td>\n",
       "      <td>2129.78</td>\n",
       "      <td>2318.82</td>\n",
       "      <td>4241.641516</td>\n",
       "      <td>2017-05-31 14:59:36</td>\n",
       "      <td>2017-05-31 14:59:36</td>\n",
       "    </tr>\n",
       "  </tbody>\n",
       "</table>\n",
       "</div>"
      ],
      "text/plain": [
       "      date_id          datetime_id    market  rpt_key        last    diff_24h  \\\n",
       "0  2017-05-31  2017-06-01 00:00:00  bitstamp  btc_eur     1996.72     2029.99   \n",
       "1  2017-05-31  2017-06-01 00:00:00  bitflyer  btc_jpy   267098.00   269649.00   \n",
       "2  2017-05-31  2017-06-01 00:00:00    korbit  btc_krw  3003500.00  3140000.00   \n",
       "3  2017-05-31  2017-06-01 00:00:00  bitstamp  btc_usd     2237.40     2239.37   \n",
       "4  2017-05-31  2017-06-01 00:00:00    okcoin  btc_usd     2318.82     2228.70   \n",
       "\n",
       "   diff_per_24h         bid         ask         low        high        volume  \\\n",
       "0     -1.638924     2005.50     2005.56     1950.00     2063.73   2314.500750   \n",
       "1     -0.946045   267124.00   267267.00   267124.00   267267.00  70922.880112   \n",
       "2     -4.347134  3003500.00  3004000.00  3002000.00  3209500.00   6109.752872   \n",
       "3     -0.087971     2233.09     2237.40     2154.28     2293.46  13681.282017   \n",
       "4      4.043613     2319.40     2319.99     2129.78     2318.82   4241.641516   \n",
       "\n",
       "            created_at           updated_at  \n",
       "0  2017-05-31 14:59:36  2017-05-31 14:59:36  \n",
       "1  2017-05-31 14:59:36  2017-05-31 14:59:36  \n",
       "2  2017-05-31 14:59:36  2017-05-31 14:59:36  \n",
       "3  2017-05-31 14:59:36  2017-05-31 14:59:36  \n",
       "4  2017-05-31 14:59:36  2017-05-31 14:59:36  "
      ]
     },
     "execution_count": 3,
     "metadata": {},
     "output_type": "execute_result"
    }
   ],
   "source": [
    "df = pd.read_csv('bitcoin_ticker.csv')\n",
    "df.head()"
   ]
  },
  {
   "cell_type": "code",
   "execution_count": 4,
   "metadata": {},
   "outputs": [
    {
     "data": {
      "text/plain": [
       "(627190, 14)"
      ]
     },
     "execution_count": 4,
     "metadata": {},
     "output_type": "execute_result"
    }
   ],
   "source": [
    "df.shape"
   ]
  },
  {
   "cell_type": "code",
   "execution_count": 5,
   "metadata": {
    "scrolled": true
   },
   "outputs": [
    {
     "data": {
      "text/plain": [
       "date_id          object\n",
       "datetime_id      object\n",
       "market           object\n",
       "rpt_key          object\n",
       "last            float64\n",
       "diff_24h        float64\n",
       "diff_per_24h    float64\n",
       "bid             float64\n",
       "ask             float64\n",
       "low             float64\n",
       "high            float64\n",
       "volume          float64\n",
       "created_at       object\n",
       "updated_at       object\n",
       "dtype: object"
      ]
     },
     "execution_count": 5,
     "metadata": {},
     "output_type": "execute_result"
    }
   ],
   "source": [
    "df.dtypes"
   ]
  },
  {
   "cell_type": "code",
   "execution_count": 6,
   "metadata": {
    "scrolled": false
   },
   "outputs": [
    {
     "data": {
      "text/plain": [
       "Index(['date_id', 'datetime_id', 'market', 'rpt_key', 'last', 'diff_24h',\n",
       "       'diff_per_24h', 'bid', 'ask', 'low', 'high', 'volume', 'created_at',\n",
       "       'updated_at'],\n",
       "      dtype='object')"
      ]
     },
     "execution_count": 6,
     "metadata": {},
     "output_type": "execute_result"
    }
   ],
   "source": [
    "df.columns"
   ]
  },
  {
   "cell_type": "code",
   "execution_count": 7,
   "metadata": {
    "scrolled": true
   },
   "outputs": [
    {
     "data": {
      "text/plain": [
       "array(['bitstamp', 'bitflyer', 'korbit', 'okcoin'], dtype=object)"
      ]
     },
     "execution_count": 7,
     "metadata": {},
     "output_type": "execute_result"
    }
   ],
   "source": [
    "df['market'].unique()"
   ]
  },
  {
   "cell_type": "code",
   "execution_count": 8,
   "metadata": {},
   "outputs": [
    {
     "data": {
      "text/plain": [
       "array(['btc_eur', 'btc_jpy', 'btc_krw', 'btc_usd', 'etc_krw', 'eth_btc',\n",
       "       'eth_krw', 'fx_btc_jpy', 'ltc_usd'], dtype=object)"
      ]
     },
     "execution_count": 8,
     "metadata": {},
     "output_type": "execute_result"
    }
   ],
   "source": [
    "df['rpt_key'].unique()"
   ]
  },
  {
   "cell_type": "markdown",
   "metadata": {},
   "source": [
    "## 국내 거래소만 보기"
   ]
  },
  {
   "cell_type": "code",
   "execution_count": 9,
   "metadata": {
    "scrolled": true
   },
   "outputs": [
    {
     "data": {
      "text/html": [
       "<div>\n",
       "<table border=\"1\" class=\"dataframe\">\n",
       "  <thead>\n",
       "    <tr style=\"text-align: right;\">\n",
       "      <th></th>\n",
       "      <th>date_id</th>\n",
       "      <th>datetime_id</th>\n",
       "      <th>market</th>\n",
       "      <th>rpt_key</th>\n",
       "      <th>last</th>\n",
       "      <th>diff_24h</th>\n",
       "      <th>diff_per_24h</th>\n",
       "      <th>bid</th>\n",
       "      <th>ask</th>\n",
       "      <th>low</th>\n",
       "      <th>high</th>\n",
       "      <th>volume</th>\n",
       "      <th>created_at</th>\n",
       "      <th>updated_at</th>\n",
       "    </tr>\n",
       "  </thead>\n",
       "  <tbody>\n",
       "    <tr>\n",
       "      <th>2</th>\n",
       "      <td>2017-05-31</td>\n",
       "      <td>2017-06-01 00:00:00</td>\n",
       "      <td>korbit</td>\n",
       "      <td>btc_krw</td>\n",
       "      <td>3003500.0</td>\n",
       "      <td>3140000.0</td>\n",
       "      <td>-4.347134</td>\n",
       "      <td>3003500.0</td>\n",
       "      <td>3004000.0</td>\n",
       "      <td>3002000.0</td>\n",
       "      <td>3209500.0</td>\n",
       "      <td>6109.752872</td>\n",
       "      <td>2017-05-31 14:59:36</td>\n",
       "      <td>2017-05-31 14:59:36</td>\n",
       "    </tr>\n",
       "    <tr>\n",
       "      <th>5</th>\n",
       "      <td>2017-05-31</td>\n",
       "      <td>2017-06-01 00:00:00</td>\n",
       "      <td>korbit</td>\n",
       "      <td>etc_krw</td>\n",
       "      <td>22740.0</td>\n",
       "      <td>23150.0</td>\n",
       "      <td>-1.771058</td>\n",
       "      <td>22700.0</td>\n",
       "      <td>22730.0</td>\n",
       "      <td>21000.0</td>\n",
       "      <td>25500.0</td>\n",
       "      <td>855853.369886</td>\n",
       "      <td>2017-05-31 14:59:36</td>\n",
       "      <td>2017-05-31 14:59:36</td>\n",
       "    </tr>\n",
       "    <tr>\n",
       "      <th>7</th>\n",
       "      <td>2017-05-31</td>\n",
       "      <td>2017-06-01 00:00:00</td>\n",
       "      <td>korbit</td>\n",
       "      <td>eth_krw</td>\n",
       "      <td>311800.0</td>\n",
       "      <td>274500.0</td>\n",
       "      <td>13.588342</td>\n",
       "      <td>311800.0</td>\n",
       "      <td>311950.0</td>\n",
       "      <td>272500.0</td>\n",
       "      <td>336000.0</td>\n",
       "      <td>327416.949269</td>\n",
       "      <td>2017-05-31 14:59:36</td>\n",
       "      <td>2017-05-31 14:59:36</td>\n",
       "    </tr>\n",
       "    <tr>\n",
       "      <th>10</th>\n",
       "      <td>2017-05-31</td>\n",
       "      <td>2017-06-01 00:01:00</td>\n",
       "      <td>korbit</td>\n",
       "      <td>etc_krw</td>\n",
       "      <td>22740.0</td>\n",
       "      <td>23010.0</td>\n",
       "      <td>-1.173403</td>\n",
       "      <td>22700.0</td>\n",
       "      <td>22730.0</td>\n",
       "      <td>21000.0</td>\n",
       "      <td>25500.0</td>\n",
       "      <td>855853.369886</td>\n",
       "      <td>2017-05-31 14:59:36</td>\n",
       "      <td>2017-05-31 14:59:36</td>\n",
       "    </tr>\n",
       "    <tr>\n",
       "      <th>11</th>\n",
       "      <td>2017-05-31</td>\n",
       "      <td>2017-06-01 00:01:00</td>\n",
       "      <td>korbit</td>\n",
       "      <td>eth_krw</td>\n",
       "      <td>311900.0</td>\n",
       "      <td>272500.0</td>\n",
       "      <td>14.458716</td>\n",
       "      <td>311900.0</td>\n",
       "      <td>311950.0</td>\n",
       "      <td>273000.0</td>\n",
       "      <td>336000.0</td>\n",
       "      <td>326531.242837</td>\n",
       "      <td>2017-05-31 15:00:36</td>\n",
       "      <td>2017-05-31 15:00:36</td>\n",
       "    </tr>\n",
       "  </tbody>\n",
       "</table>\n",
       "</div>"
      ],
      "text/plain": [
       "       date_id          datetime_id  market  rpt_key       last   diff_24h  \\\n",
       "2   2017-05-31  2017-06-01 00:00:00  korbit  btc_krw  3003500.0  3140000.0   \n",
       "5   2017-05-31  2017-06-01 00:00:00  korbit  etc_krw    22740.0    23150.0   \n",
       "7   2017-05-31  2017-06-01 00:00:00  korbit  eth_krw   311800.0   274500.0   \n",
       "10  2017-05-31  2017-06-01 00:01:00  korbit  etc_krw    22740.0    23010.0   \n",
       "11  2017-05-31  2017-06-01 00:01:00  korbit  eth_krw   311900.0   272500.0   \n",
       "\n",
       "    diff_per_24h        bid        ask        low       high         volume  \\\n",
       "2      -4.347134  3003500.0  3004000.0  3002000.0  3209500.0    6109.752872   \n",
       "5      -1.771058    22700.0    22730.0    21000.0    25500.0  855853.369886   \n",
       "7      13.588342   311800.0   311950.0   272500.0   336000.0  327416.949269   \n",
       "10     -1.173403    22700.0    22730.0    21000.0    25500.0  855853.369886   \n",
       "11     14.458716   311900.0   311950.0   273000.0   336000.0  326531.242837   \n",
       "\n",
       "             created_at           updated_at  \n",
       "2   2017-05-31 14:59:36  2017-05-31 14:59:36  \n",
       "5   2017-05-31 14:59:36  2017-05-31 14:59:36  \n",
       "7   2017-05-31 14:59:36  2017-05-31 14:59:36  \n",
       "10  2017-05-31 14:59:36  2017-05-31 14:59:36  \n",
       "11  2017-05-31 15:00:36  2017-05-31 15:00:36  "
      ]
     },
     "execution_count": 9,
     "metadata": {},
     "output_type": "execute_result"
    },
    {
     "data": {
      "text/plain": [
       "(188157, 14)"
      ]
     },
     "execution_count": 9,
     "metadata": {},
     "output_type": "execute_result"
    }
   ],
   "source": [
    "df_ko = df[df['market'] == 'korbit']\n",
    "df_ko.head()\n",
    "df_ko.shape"
   ]
  },
  {
   "cell_type": "markdown",
   "metadata": {},
   "source": [
    "## ETC만 보기"
   ]
  },
  {
   "cell_type": "code",
   "execution_count": 10,
   "metadata": {
    "scrolled": true
   },
   "outputs": [
    {
     "data": {
      "text/html": [
       "<div>\n",
       "<table border=\"1\" class=\"dataframe\">\n",
       "  <thead>\n",
       "    <tr style=\"text-align: right;\">\n",
       "      <th></th>\n",
       "      <th>date_id</th>\n",
       "      <th>datetime_id</th>\n",
       "      <th>market</th>\n",
       "      <th>rpt_key</th>\n",
       "      <th>last</th>\n",
       "      <th>diff_24h</th>\n",
       "      <th>diff_per_24h</th>\n",
       "      <th>bid</th>\n",
       "      <th>ask</th>\n",
       "      <th>low</th>\n",
       "      <th>high</th>\n",
       "      <th>volume</th>\n",
       "      <th>created_at</th>\n",
       "      <th>updated_at</th>\n",
       "    </tr>\n",
       "  </thead>\n",
       "  <tbody>\n",
       "    <tr>\n",
       "      <th>5</th>\n",
       "      <td>2017-05-31</td>\n",
       "      <td>2017-06-01 00:00:00</td>\n",
       "      <td>korbit</td>\n",
       "      <td>etc_krw</td>\n",
       "      <td>22740.0</td>\n",
       "      <td>23150.0</td>\n",
       "      <td>-1.771058</td>\n",
       "      <td>22700.0</td>\n",
       "      <td>22730.0</td>\n",
       "      <td>21000.0</td>\n",
       "      <td>25500.0</td>\n",
       "      <td>855853.369886</td>\n",
       "      <td>2017-05-31 14:59:36</td>\n",
       "      <td>2017-05-31 14:59:36</td>\n",
       "    </tr>\n",
       "    <tr>\n",
       "      <th>10</th>\n",
       "      <td>2017-05-31</td>\n",
       "      <td>2017-06-01 00:01:00</td>\n",
       "      <td>korbit</td>\n",
       "      <td>etc_krw</td>\n",
       "      <td>22740.0</td>\n",
       "      <td>23010.0</td>\n",
       "      <td>-1.173403</td>\n",
       "      <td>22700.0</td>\n",
       "      <td>22730.0</td>\n",
       "      <td>21000.0</td>\n",
       "      <td>25500.0</td>\n",
       "      <td>855853.369886</td>\n",
       "      <td>2017-05-31 14:59:36</td>\n",
       "      <td>2017-05-31 14:59:36</td>\n",
       "    </tr>\n",
       "    <tr>\n",
       "      <th>25</th>\n",
       "      <td>2017-06-01</td>\n",
       "      <td>2017-06-01 00:02:00</td>\n",
       "      <td>korbit</td>\n",
       "      <td>etc_krw</td>\n",
       "      <td>22700.0</td>\n",
       "      <td>23000.0</td>\n",
       "      <td>-1.304348</td>\n",
       "      <td>22700.0</td>\n",
       "      <td>22730.0</td>\n",
       "      <td>21000.0</td>\n",
       "      <td>25500.0</td>\n",
       "      <td>848605.960736</td>\n",
       "      <td>2017-05-31 15:01:36</td>\n",
       "      <td>2017-05-31 15:01:36</td>\n",
       "    </tr>\n",
       "    <tr>\n",
       "      <th>35</th>\n",
       "      <td>2017-06-01</td>\n",
       "      <td>2017-06-01 00:03:00</td>\n",
       "      <td>korbit</td>\n",
       "      <td>etc_krw</td>\n",
       "      <td>22700.0</td>\n",
       "      <td>22990.0</td>\n",
       "      <td>-1.261418</td>\n",
       "      <td>22700.0</td>\n",
       "      <td>22730.0</td>\n",
       "      <td>21000.0</td>\n",
       "      <td>25500.0</td>\n",
       "      <td>847135.372966</td>\n",
       "      <td>2017-05-31 15:01:36</td>\n",
       "      <td>2017-05-31 15:02:36</td>\n",
       "    </tr>\n",
       "    <tr>\n",
       "      <th>45</th>\n",
       "      <td>2017-06-01</td>\n",
       "      <td>2017-06-01 00:04:00</td>\n",
       "      <td>korbit</td>\n",
       "      <td>etc_krw</td>\n",
       "      <td>22700.0</td>\n",
       "      <td>22900.0</td>\n",
       "      <td>-0.873362</td>\n",
       "      <td>22690.0</td>\n",
       "      <td>22700.0</td>\n",
       "      <td>21000.0</td>\n",
       "      <td>25500.0</td>\n",
       "      <td>846004.624013</td>\n",
       "      <td>2017-05-31 15:03:37</td>\n",
       "      <td>2017-05-31 15:03:37</td>\n",
       "    </tr>\n",
       "  </tbody>\n",
       "</table>\n",
       "</div>"
      ],
      "text/plain": [
       "       date_id          datetime_id  market  rpt_key     last  diff_24h  \\\n",
       "5   2017-05-31  2017-06-01 00:00:00  korbit  etc_krw  22740.0   23150.0   \n",
       "10  2017-05-31  2017-06-01 00:01:00  korbit  etc_krw  22740.0   23010.0   \n",
       "25  2017-06-01  2017-06-01 00:02:00  korbit  etc_krw  22700.0   23000.0   \n",
       "35  2017-06-01  2017-06-01 00:03:00  korbit  etc_krw  22700.0   22990.0   \n",
       "45  2017-06-01  2017-06-01 00:04:00  korbit  etc_krw  22700.0   22900.0   \n",
       "\n",
       "    diff_per_24h      bid      ask      low     high         volume  \\\n",
       "5      -1.771058  22700.0  22730.0  21000.0  25500.0  855853.369886   \n",
       "10     -1.173403  22700.0  22730.0  21000.0  25500.0  855853.369886   \n",
       "25     -1.304348  22700.0  22730.0  21000.0  25500.0  848605.960736   \n",
       "35     -1.261418  22700.0  22730.0  21000.0  25500.0  847135.372966   \n",
       "45     -0.873362  22690.0  22700.0  21000.0  25500.0  846004.624013   \n",
       "\n",
       "             created_at           updated_at  \n",
       "5   2017-05-31 14:59:36  2017-05-31 14:59:36  \n",
       "10  2017-05-31 14:59:36  2017-05-31 14:59:36  \n",
       "25  2017-05-31 15:01:36  2017-05-31 15:01:36  \n",
       "35  2017-05-31 15:01:36  2017-05-31 15:02:36  \n",
       "45  2017-05-31 15:03:37  2017-05-31 15:03:37  "
      ]
     },
     "execution_count": 10,
     "metadata": {},
     "output_type": "execute_result"
    },
    {
     "data": {
      "text/plain": [
       "(62719, 14)"
      ]
     },
     "execution_count": 10,
     "metadata": {},
     "output_type": "execute_result"
    }
   ],
   "source": [
    "etc = df_ko[df_ko['rpt_key'] == 'etc_krw']\n",
    "etc.head()\n",
    "etc.shape"
   ]
  },
  {
   "cell_type": "markdown",
   "metadata": {},
   "source": [
    "## 전처리"
   ]
  },
  {
   "cell_type": "markdown",
   "metadata": {},
   "source": [
    "### 필요한 컬럼만 추출"
   ]
  },
  {
   "cell_type": "code",
   "execution_count": 11,
   "metadata": {},
   "outputs": [
    {
     "data": {
      "text/html": [
       "<div>\n",
       "<table border=\"1\" class=\"dataframe\">\n",
       "  <thead>\n",
       "    <tr style=\"text-align: right;\">\n",
       "      <th></th>\n",
       "      <th>datetime_id</th>\n",
       "      <th>last</th>\n",
       "      <th>diff_per_24h</th>\n",
       "      <th>low</th>\n",
       "      <th>high</th>\n",
       "      <th>volume</th>\n",
       "    </tr>\n",
       "  </thead>\n",
       "  <tbody>\n",
       "    <tr>\n",
       "      <th>5</th>\n",
       "      <td>2017-06-01 00:00:00</td>\n",
       "      <td>22740.0</td>\n",
       "      <td>-1.771058</td>\n",
       "      <td>21000.0</td>\n",
       "      <td>25500.0</td>\n",
       "      <td>855853.369886</td>\n",
       "    </tr>\n",
       "    <tr>\n",
       "      <th>10</th>\n",
       "      <td>2017-06-01 00:01:00</td>\n",
       "      <td>22740.0</td>\n",
       "      <td>-1.173403</td>\n",
       "      <td>21000.0</td>\n",
       "      <td>25500.0</td>\n",
       "      <td>855853.369886</td>\n",
       "    </tr>\n",
       "    <tr>\n",
       "      <th>25</th>\n",
       "      <td>2017-06-01 00:02:00</td>\n",
       "      <td>22700.0</td>\n",
       "      <td>-1.304348</td>\n",
       "      <td>21000.0</td>\n",
       "      <td>25500.0</td>\n",
       "      <td>848605.960736</td>\n",
       "    </tr>\n",
       "    <tr>\n",
       "      <th>35</th>\n",
       "      <td>2017-06-01 00:03:00</td>\n",
       "      <td>22700.0</td>\n",
       "      <td>-1.261418</td>\n",
       "      <td>21000.0</td>\n",
       "      <td>25500.0</td>\n",
       "      <td>847135.372966</td>\n",
       "    </tr>\n",
       "    <tr>\n",
       "      <th>45</th>\n",
       "      <td>2017-06-01 00:04:00</td>\n",
       "      <td>22700.0</td>\n",
       "      <td>-0.873362</td>\n",
       "      <td>21000.0</td>\n",
       "      <td>25500.0</td>\n",
       "      <td>846004.624013</td>\n",
       "    </tr>\n",
       "  </tbody>\n",
       "</table>\n",
       "</div>"
      ],
      "text/plain": [
       "            datetime_id     last  diff_per_24h      low     high  \\\n",
       "5   2017-06-01 00:00:00  22740.0     -1.771058  21000.0  25500.0   \n",
       "10  2017-06-01 00:01:00  22740.0     -1.173403  21000.0  25500.0   \n",
       "25  2017-06-01 00:02:00  22700.0     -1.304348  21000.0  25500.0   \n",
       "35  2017-06-01 00:03:00  22700.0     -1.261418  21000.0  25500.0   \n",
       "45  2017-06-01 00:04:00  22700.0     -0.873362  21000.0  25500.0   \n",
       "\n",
       "           volume  \n",
       "5   855853.369886  \n",
       "10  855853.369886  \n",
       "25  848605.960736  \n",
       "35  847135.372966  \n",
       "45  846004.624013  "
      ]
     },
     "execution_count": 11,
     "metadata": {},
     "output_type": "execute_result"
    }
   ],
   "source": [
    "etc = etc[['datetime_id', 'last', 'diff_per_24h', 'low', 'high', 'volume']]\n",
    "etc.head()"
   ]
  },
  {
   "cell_type": "markdown",
   "metadata": {},
   "source": [
    "### index 재설정"
   ]
  },
  {
   "cell_type": "code",
   "execution_count": 12,
   "metadata": {
    "scrolled": true
   },
   "outputs": [
    {
     "data": {
      "text/html": [
       "<div>\n",
       "<table border=\"1\" class=\"dataframe\">\n",
       "  <thead>\n",
       "    <tr style=\"text-align: right;\">\n",
       "      <th></th>\n",
       "      <th>datetime_id</th>\n",
       "      <th>last</th>\n",
       "      <th>diff_per_24h</th>\n",
       "      <th>low</th>\n",
       "      <th>high</th>\n",
       "      <th>volume</th>\n",
       "    </tr>\n",
       "  </thead>\n",
       "  <tbody>\n",
       "    <tr>\n",
       "      <th>0</th>\n",
       "      <td>2017-06-01 00:00:00</td>\n",
       "      <td>22740.0</td>\n",
       "      <td>-1.771058</td>\n",
       "      <td>21000.0</td>\n",
       "      <td>25500.0</td>\n",
       "      <td>855853.369886</td>\n",
       "    </tr>\n",
       "    <tr>\n",
       "      <th>1</th>\n",
       "      <td>2017-06-01 00:01:00</td>\n",
       "      <td>22740.0</td>\n",
       "      <td>-1.173403</td>\n",
       "      <td>21000.0</td>\n",
       "      <td>25500.0</td>\n",
       "      <td>855853.369886</td>\n",
       "    </tr>\n",
       "    <tr>\n",
       "      <th>2</th>\n",
       "      <td>2017-06-01 00:02:00</td>\n",
       "      <td>22700.0</td>\n",
       "      <td>-1.304348</td>\n",
       "      <td>21000.0</td>\n",
       "      <td>25500.0</td>\n",
       "      <td>848605.960736</td>\n",
       "    </tr>\n",
       "    <tr>\n",
       "      <th>3</th>\n",
       "      <td>2017-06-01 00:03:00</td>\n",
       "      <td>22700.0</td>\n",
       "      <td>-1.261418</td>\n",
       "      <td>21000.0</td>\n",
       "      <td>25500.0</td>\n",
       "      <td>847135.372966</td>\n",
       "    </tr>\n",
       "    <tr>\n",
       "      <th>4</th>\n",
       "      <td>2017-06-01 00:04:00</td>\n",
       "      <td>22700.0</td>\n",
       "      <td>-0.873362</td>\n",
       "      <td>21000.0</td>\n",
       "      <td>25500.0</td>\n",
       "      <td>846004.624013</td>\n",
       "    </tr>\n",
       "  </tbody>\n",
       "</table>\n",
       "</div>"
      ],
      "text/plain": [
       "           datetime_id     last  diff_per_24h      low     high         volume\n",
       "0  2017-06-01 00:00:00  22740.0     -1.771058  21000.0  25500.0  855853.369886\n",
       "1  2017-06-01 00:01:00  22740.0     -1.173403  21000.0  25500.0  855853.369886\n",
       "2  2017-06-01 00:02:00  22700.0     -1.304348  21000.0  25500.0  848605.960736\n",
       "3  2017-06-01 00:03:00  22700.0     -1.261418  21000.0  25500.0  847135.372966\n",
       "4  2017-06-01 00:04:00  22700.0     -0.873362  21000.0  25500.0  846004.624013"
      ]
     },
     "execution_count": 12,
     "metadata": {},
     "output_type": "execute_result"
    }
   ],
   "source": [
    "etc = etc.reset_index().drop('index', axis=1)\n",
    "etc.head()"
   ]
  },
  {
   "cell_type": "markdown",
   "metadata": {},
   "source": [
    "### datetime으로 변환"
   ]
  },
  {
   "cell_type": "code",
   "execution_count": 13,
   "metadata": {
    "scrolled": false
   },
   "outputs": [
    {
     "data": {
      "text/plain": [
       "0   2017-06-01 00:00:00\n",
       "1   2017-06-01 00:01:00\n",
       "2   2017-06-01 00:02:00\n",
       "3   2017-06-01 00:03:00\n",
       "4   2017-06-01 00:04:00\n",
       "Name: datetime_id, dtype: datetime64[ns]"
      ]
     },
     "execution_count": 13,
     "metadata": {},
     "output_type": "execute_result"
    }
   ],
   "source": [
    "pd.to_datetime(etc['datetime_id']).head()"
   ]
  },
  {
   "cell_type": "code",
   "execution_count": 14,
   "metadata": {},
   "outputs": [],
   "source": [
    "etc['datetime_id'] = pd.to_datetime(etc['datetime_id'])"
   ]
  },
  {
   "cell_type": "markdown",
   "metadata": {},
   "source": [
    "### 그래프로 확인"
   ]
  },
  {
   "cell_type": "code",
   "execution_count": 15,
   "metadata": {
    "scrolled": false
   },
   "outputs": [
    {
     "data": {
      "image/png": "[encoded data removed]",
      "text/plain": [
       "<matplotlib.figure.Figure at 0x1ba59486d68>"
      ]
     },
     "metadata": {},
     "output_type": "display_data"
    }
   ],
   "source": [
    "import matplotlib.dates as mdates\n",
    "def show_plot(column):\n",
    "    fig, ax = plt.subplots()\n",
    "    myFmt = mdates.DateFormatter('%m-%d')\n",
    "    ax.xaxis.set_major_formatter(myFmt)\n",
    "    ax.plot(etc['datetime_id'], etc['last'], c='black', linewidth=0.8)\n",
    "    plt.show();\n",
    "show_plot('last')"
   ]
  },
  {
   "cell_type": "markdown",
   "metadata": {},
   "source": [
    "### 에러 이후 데이터만 사용"
   ]
  },
  {
   "cell_type": "code",
   "execution_count": 16,
   "metadata": {
    "scrolled": true
   },
   "outputs": [
    {
     "data": {
      "text/html": [
       "<div>\n",
       "<table border=\"1\" class=\"dataframe\">\n",
       "  <thead>\n",
       "    <tr style=\"text-align: right;\">\n",
       "      <th></th>\n",
       "      <th>datetime_id</th>\n",
       "      <th>last</th>\n",
       "      <th>diff_per_24h</th>\n",
       "      <th>low</th>\n",
       "      <th>high</th>\n",
       "      <th>volume</th>\n",
       "    </tr>\n",
       "  </thead>\n",
       "  <tbody>\n",
       "    <tr>\n",
       "      <th>0</th>\n",
       "      <td>2017-06-27 13:37:00</td>\n",
       "      <td>23650.0</td>\n",
       "      <td>-8.048212</td>\n",
       "      <td>20100.0</td>\n",
       "      <td>25820.0</td>\n",
       "      <td>839538.953243</td>\n",
       "    </tr>\n",
       "    <tr>\n",
       "      <th>1</th>\n",
       "      <td>2017-06-27 13:38:00</td>\n",
       "      <td>23700.0</td>\n",
       "      <td>-7.853810</td>\n",
       "      <td>20100.0</td>\n",
       "      <td>25820.0</td>\n",
       "      <td>841029.097801</td>\n",
       "    </tr>\n",
       "    <tr>\n",
       "      <th>2</th>\n",
       "      <td>2017-06-27 13:39:00</td>\n",
       "      <td>23700.0</td>\n",
       "      <td>-7.853810</td>\n",
       "      <td>20100.0</td>\n",
       "      <td>25820.0</td>\n",
       "      <td>841029.097801</td>\n",
       "    </tr>\n",
       "    <tr>\n",
       "      <th>3</th>\n",
       "      <td>2017-06-27 13:40:00</td>\n",
       "      <td>23700.0</td>\n",
       "      <td>-7.853810</td>\n",
       "      <td>20100.0</td>\n",
       "      <td>25820.0</td>\n",
       "      <td>842350.250316</td>\n",
       "    </tr>\n",
       "    <tr>\n",
       "      <th>4</th>\n",
       "      <td>2017-06-27 13:41:00</td>\n",
       "      <td>23750.0</td>\n",
       "      <td>-7.659409</td>\n",
       "      <td>20100.0</td>\n",
       "      <td>25820.0</td>\n",
       "      <td>842559.498064</td>\n",
       "    </tr>\n",
       "  </tbody>\n",
       "</table>\n",
       "</div>"
      ],
      "text/plain": [
       "          datetime_id     last  diff_per_24h      low     high         volume\n",
       "0 2017-06-27 13:37:00  23650.0     -8.048212  20100.0  25820.0  839538.953243\n",
       "1 2017-06-27 13:38:00  23700.0     -7.853810  20100.0  25820.0  841029.097801\n",
       "2 2017-06-27 13:39:00  23700.0     -7.853810  20100.0  25820.0  841029.097801\n",
       "3 2017-06-27 13:40:00  23700.0     -7.853810  20100.0  25820.0  842350.250316\n",
       "4 2017-06-27 13:41:00  23750.0     -7.659409  20100.0  25820.0  842559.498064"
      ]
     },
     "execution_count": 16,
     "metadata": {},
     "output_type": "execute_result"
    },
    {
     "data": {
      "text/plain": [
       "(24462, 6)"
      ]
     },
     "execution_count": 16,
     "metadata": {},
     "output_type": "execute_result"
    }
   ],
   "source": [
    "etc = etc[etc.ix[:, 0] > pd.datetime(2017, 6, 27, 13, 36)]\n",
    "etc = etc.reset_index().drop('index', axis=1)\n",
    "etc.head()\n",
    "etc.shape"
   ]
  },
  {
   "cell_type": "code",
   "execution_count": 17,
   "metadata": {
    "scrolled": true
   },
   "outputs": [
    {
     "data": {
      "image/png": "[encoded data removed]",
      "text/plain": [
       "<matplotlib.figure.Figure at 0x1ba599f89e8>"
      ]
     },
     "metadata": {},
     "output_type": "display_data"
    }
   ],
   "source": [
    "show_plot('last')"
   ]
  },
  {
   "cell_type": "markdown",
   "metadata": {},
   "source": [
    "## Train data, Test data 분리"
   ]
  },
  {
   "cell_type": "code",
   "execution_count": null,
   "metadata": {
    "collapsed": true
   },
   "outputs": [],
   "source": []
  },
  {
   "cell_type": "code",
   "execution_count": 20,
   "metadata": {},
   "outputs": [],
   "source": [
    "from sklearn.preprocessing import MinMaxScaler\n",
    "from sklearn.metrics import mean_squared_error\n",
    "np.random.seed(201)"
   ]
  },
  {
   "cell_type": "markdown",
   "metadata": {},
   "source": [
    "## Normalize dataset"
   ]
  },
  {
   "cell_type": "code",
   "execution_count": 25,
   "metadata": {},
   "outputs": [
    {
     "data": {
      "text/plain": [
       "array([ 23650.,  23700.,  23700., ...,  20830.,  20850.,  20900.], dtype=float32)"
      ]
     },
     "execution_count": 25,
     "metadata": {},
     "output_type": "execute_result"
    }
   ],
   "source": [
    "dataset = etc['last'].values\n",
    "dataset.astype('float32')"
   ]
  },
  {
   "cell_type": "code",
   "execution_count": 28,
   "metadata": {},
   "outputs": [],
   "source": [
    "dataset = dataset.reshape(len(dataset), 1)"
   ]
  },
  {
   "cell_type": "code",
   "execution_count": 29,
   "metadata": {},
   "outputs": [],
   "source": [
    "scaler = MinMaxScaler(feature_range=(-1, 1))\n",
    "scaler = scaler.fit(dataset)\n",
    "scalerd_X = scaler.transform(dataset)"
   ]
  },
  {
   "cell_type": "markdown",
   "metadata": {},
   "source": [
    "## Train data, Test data 분리"
   ]
  },
  {
   "cell_type": "code",
   "execution_count": 35,
   "metadata": {
    "scrolled": true
   },
   "outputs": [
    {
     "data": {
      "text/plain": [
       "(19569, 4893)"
      ]
     },
     "execution_count": 35,
     "metadata": {},
     "output_type": "execute_result"
    }
   ],
   "source": [
    "train_size = int(len(scalerd_X) * 0.8)\n",
    "test_size = len(scalerd_X) - train_size\n",
    "train_size, test_size"
   ]
  },
  {
   "cell_type": "code",
   "execution_count": 38,
   "metadata": {
    "scrolled": true
   },
   "outputs": [
    {
     "data": {
      "text/plain": [
       "((19569, 1), (4893, 1))"
      ]
     },
     "execution_count": 38,
     "metadata": {},
     "output_type": "execute_result"
    }
   ],
   "source": [
    "train, test = scalerd_X[0:train_size, :], scalerd_X[train_size:len(scalerd_X), :]\n",
    "train.shape, test.shape"
   ]
  },
  {
   "cell_type": "code",
   "execution_count": 40,
   "metadata": {
    "scrolled": true
   },
   "outputs": [
    {
     "data": {
      "text/plain": [
       "array([[ 0.88030468],\n",
       "       [ 0.89118607],\n",
       "       [ 0.89118607],\n",
       "       [ 0.89118607],\n",
       "       [ 0.90206746]])"
      ]
     },
     "execution_count": 40,
     "metadata": {},
     "output_type": "execute_result"
    }
   ],
   "source": [
    "train[:5]"
   ]
  },
  {
   "cell_type": "markdown",
   "metadata": {},
   "source": [
    "## convert an array of values into a dataset matrix"
   ]
  },
  {
   "cell_type": "code",
   "execution_count": 43,
   "metadata": {
    "collapsed": true
   },
   "outputs": [],
   "source": [
    "def create_dataset(dataset, look_back=1):\n",
    "    dataX, dataY = [], []\n",
    "    for i in range(len(dataset)-look_back-1):\n",
    "        a = dataset[i:(i+look_back), 0]\n",
    "        dataX.append(a)\n",
    "        dataY.append(dataset[i + look_back, 0])\n",
    "    return np.array(dataX), np.array(dataY)"
   ]
  },
  {
   "cell_type": "code",
   "execution_count": 65,
   "metadata": {
    "scrolled": true
   },
   "outputs": [
    {
     "data": {
      "text/plain": [
       "(array([[112],\n",
       "        [118],\n",
       "        [132]]), array([118, 132, 129]))"
      ]
     },
     "execution_count": 65,
     "metadata": {},
     "output_type": "execute_result"
    }
   ],
   "source": [
    "create_dataset(np.array([112, 118, 132, 129, 121]).reshape(-1, 1), 1)"
   ]
  },
  {
   "cell_type": "markdown",
   "metadata": {},
   "source": [
    "## X=t, y=t+1로 바꾸기"
   ]
  },
  {
   "cell_type": "code",
   "execution_count": 119,
   "metadata": {
    "scrolled": false
   },
   "outputs": [],
   "source": [
    "look_back = 1\n",
    "X_train, y_train = create_dataset(train, look_back)\n",
    "X_test, y_test = create_dataset(test, look_back)\n",
    "y_train = y_train.reshape(-1, 1)\n",
    "y_test = y_test.reshape(-1, 1)"
   ]
  },
  {
   "cell_type": "markdown",
   "metadata": {},
   "source": [
    "## [sample, time step, feature] 형태로 바꾸기"
   ]
  },
  {
   "cell_type": "code",
   "execution_count": 120,
   "metadata": {
    "scrolled": true
   },
   "outputs": [],
   "source": [
    "X_train = np.reshape(X_train, (X_train.shape[0], 1, X_train.shape[1]))\n",
    "X_test = np.reshape(X_test, (X_test.shape[0], 1, X_test.shape[1]))"
   ]
  },
  {
   "cell_type": "markdown",
   "metadata": {},
   "source": [
    "# 네트워크 구성하기"
   ]
  },
  {
   "cell_type": "code",
   "execution_count": 76,
   "metadata": {},
   "outputs": [],
   "source": [
    "LR = 0.0003\n",
    "MODEL_NAME = \"LSTM-{}-{}\".format(LR, \"basic\")\n",
    "\n",
    "tf.reset_default_graph()\n",
    "\n",
    "net = tflearn.input_data(shape=[None, 1, 1], name=\"input\")\n",
    "net = tflearn.lstm(net, 8)\n",
    "net = tflearn.fully_connected(net, 1, activation=\"linear\")\n",
    "net = tflearn.regression(\n",
    "    net, \n",
    "    optimizer=\"adam\", \n",
    "    learning_rate=LR, \n",
    "    loss=\"mean_square\",\n",
    "    name=\"targets\"\n",
    ")\n",
    "\n",
    "model = tflearn.DNN(net, tensorboard_dir=\"log\")"
   ]
  },
  {
   "cell_type": "code",
   "execution_count": 80,
   "metadata": {},
   "outputs": [
    {
     "name": "stdout",
     "output_type": "stream",
     "text": [
      "Training Step: 1224  | total loss: 0.01362 | time: 2.666s\n",
      "| Adam | epoch: 005 | loss: 0.01362 - binary_acc: 0.0000 -- iter: 19520/19567\n",
      "Training Step: 1225  | total loss: 0.01335 | time: 3.690s\n",
      "| Adam | epoch: 005 | loss: 0.01335 - binary_acc: 0.0000 | val_loss: 0.10062 - val_acc: 0.0000 -- iter: 19567/19567\n",
      "--\n"
     ]
    }
   ],
   "source": [
    "model.fit(\n",
    "    {\"input\": X_train},\n",
    "    {\"targets\": y_train.reshape(-1, 1)},\n",
    "    n_epoch=2,\n",
    "    validation_set=(\n",
    "        {\"input\": X_test},\n",
    "        {\"targets\": y_test}\n",
    "    ),\n",
    "    snapshot_step=500,\n",
    "    show_metric=True,\n",
    "    run_id=MODEL_NAME\n",
    ")"
   ]
  },
  {
   "cell_type": "code",
   "execution_count": 83,
   "metadata": {},
   "outputs": [],
   "source": [
    "train_predict = model.predict(X_train)\n",
    "test_predict = model.predict(X_test)"
   ]
  },
  {
   "cell_type": "code",
   "execution_count": null,
   "metadata": {
    "scrolled": true
   },
   "outputs": [],
   "source": [
    "train_predict = scaler.inverse_transform(train_predict)\n",
    "y_train = scaler.inverse_transform(y_train)\n",
    "test_predict = scaler.inverse_transform(test_predict)\n",
    "y_test = scaler.inverse_transform(y_test)"
   ]
  },
  {
   "cell_type": "code",
   "execution_count": 87,
   "metadata": {},
   "outputs": [
    {
     "data": {
      "text/plain": [
       "(19567, 1)"
      ]
     },
     "execution_count": 87,
     "metadata": {},
     "output_type": "execute_result"
    }
   ],
   "source": [
    "train_predict.shape"
   ]
  },
  {
   "cell_type": "code",
   "execution_count": 88,
   "metadata": {
    "collapsed": true
   },
   "outputs": [],
   "source": [
    "from math import sqrt\n",
    "train_score = sqrt(mean_squared_error(y_train, train_predict[:, 0]))\n",
    "test_score = sqrt(mean_squared_error(y_test, test_predict[:, 0]))"
   ]
  },
  {
   "cell_type": "code",
   "execution_count": 89,
   "metadata": {},
   "outputs": [
    {
     "name": "stdout",
     "output_type": "stream",
     "text": [
      "Train score: 507.08 RMSE\n",
      "Test score: 1457.55 RMSE\n"
     ]
    }
   ],
   "source": [
    "print(\"Train score: {:.2f} RMSE\".format(train_score))\n",
    "print(\"Test score: {:.2f} RMSE\".format(test_score))"
   ]
  },
  {
   "cell_type": "code",
   "execution_count": 92,
   "metadata": {
    "collapsed": true
   },
   "outputs": [],
   "source": [
    "train_predict_plot = np.empty_like(dataset)\n",
    "train_predict_plot[:] = np.nan\n",
    "train_predict_plot[look_back:len(train_predict)+look_back] = train_predict"
   ]
  },
  {
   "cell_type": "code",
   "execution_count": 93,
   "metadata": {
    "collapsed": true
   },
   "outputs": [],
   "source": [
    "test_predict_plot = np.empty_like(dataset)\n",
    "test_predict_plot[:] = np.nan\n",
    "test_predict_plot[len(train_predict)+(look_back*2)+1:len(dataset)-1] = test_predict"
   ]
  },
  {
   "cell_type": "code",
   "execution_count": 107,
   "metadata": {
    "scrolled": false
   },
   "outputs": [
    {
     "data": {
      "image/png": "[encoded data removed]",
      "text/plain": [
       "<matplotlib.figure.Figure at 0x1bae75b5f28>"
      ]
     },
     "metadata": {},
     "output_type": "display_data"
    }
   ],
   "source": [
    "plt.plot(dataset, c='black', label='true')\n",
    "plt.plot(train_predict_plot, c='red', label='train')\n",
    "plt.plot(test_predict_plot, c='green', label='test')\n",
    "plt.show();"
   ]
  },
  {
   "cell_type": "markdown",
   "metadata": {},
   "source": [
    "# 다른 네트워크"
   ]
  },
  {
   "cell_type": "code",
   "execution_count": 110,
   "metadata": {
    "scrolled": false
   },
   "outputs": [],
   "source": [
    "look_back = 1\n",
    "X_train, y_train = create_dataset(train, look_back)\n",
    "X_test, y_test = create_dataset(test, look_back)\n",
    "X_train = np.reshape(X_train, (X_train.shape[0], 1, X_train.shape[1]))\n",
    "X_test = np.reshape(X_test, (X_test.shape[0], 1, X_test.shape[1]))\n",
    "y_train = y_train.reshape(-1, 1)\n",
    "y_test = y_test.reshape(-1, 1)"
   ]
  },
  {
   "cell_type": "code",
   "execution_count": 109,
   "metadata": {},
   "outputs": [],
   "source": [
    "LR = 0.0003\n",
    "MODEL_NAME = \"LSTM-{}-{}\".format(LR, \"another\")\n",
    "\n",
    "tf.reset_default_graph()\n",
    "\n",
    "net = tflearn.input_data(shape=[None, 1, 1], name=\"input\")\n",
    "net = tflearn.lstm(net, 16, return_seq=True)\n",
    "net = tflearn.lstm(net, 8)\n",
    "net = tflearn.fully_connected(net, 100, activation=\"linear\")\n",
    "net = tflearn.dropout(net, 0.8)\n",
    "net = tflearn.fully_connected(net, 1, activation=\"linear\")\n",
    "net = tflearn.regression(\n",
    "    net, \n",
    "    optimizer=\"adam\", \n",
    "    learning_rate=LR, \n",
    "    loss=\"mean_square\",\n",
    "    name=\"targets\"\n",
    ")\n",
    "\n",
    "model = tflearn.DNN(net, tensorboard_dir=\"log\")"
   ]
  },
  {
   "cell_type": "code",
   "execution_count": 111,
   "metadata": {
    "scrolled": false
   },
   "outputs": [
    {
     "name": "stdout",
     "output_type": "stream",
     "text": [
      "Training Step: 917  | total loss: 0.00075 | time: 2.212s\n",
      "| Adam | epoch: 003 | loss: 0.00075 - binary_acc: 0.0000 -- iter: 19520/19567\n",
      "Training Step: 918  | total loss: 0.00075 | time: 3.235s\n",
      "| Adam | epoch: 003 | loss: 0.00075 - binary_acc: 0.0000 | val_loss: 0.01545 - val_acc: 0.0000 -- iter: 19567/19567\n",
      "--\n"
     ]
    }
   ],
   "source": [
    "model.fit(\n",
    "    {\"input\": X_train},\n",
    "    {\"targets\": y_train},\n",
    "    n_epoch=3,\n",
    "    validation_set=(\n",
    "        {\"input\": X_test},\n",
    "        {\"targets\": y_test}\n",
    "    ),\n",
    "    snapshot_step=500,\n",
    "    show_metric=True,\n",
    "    run_id=MODEL_NAME\n",
    ")"
   ]
  },
  {
   "cell_type": "code",
   "execution_count": 121,
   "metadata": {},
   "outputs": [
    {
     "name": "stdout",
     "output_type": "stream",
     "text": [
      "INFO:tensorflow:C:\\Users\\WinterJ\\Documents\\GitHub\\python\\Code_Study\\Machine_Learning\\kakao_study\\LSTM-0.0003-another is not in all_model_checkpoint_paths. Manually adding it.\n",
      "WARNING:tensorflow:Error encountered when serializing layer_tensor/LSTM.\n",
      "Type is unsupported, or the types of the items don't match field type in CollectionDef.\n",
      "'list' object has no attribute 'name'\n"
     ]
    }
   ],
   "source": [
    "model.save(MODEL_NAME)"
   ]
  },
  {
   "cell_type": "code",
   "execution_count": 112,
   "metadata": {
    "collapsed": true
   },
   "outputs": [],
   "source": [
    "train_predict = model.predict(X_train)\n",
    "test_predict = model.predict(X_test)"
   ]
  },
  {
   "cell_type": "code",
   "execution_count": 113,
   "metadata": {
    "scrolled": true
   },
   "outputs": [],
   "source": [
    "train_predict = scaler.inverse_transform(train_predict)\n",
    "y_train = scaler.inverse_transform(y_train)\n",
    "test_predict = scaler.inverse_transform(test_predict)\n",
    "y_test = scaler.inverse_transform(y_test)"
   ]
  },
  {
   "cell_type": "code",
   "execution_count": 114,
   "metadata": {
    "collapsed": true
   },
   "outputs": [],
   "source": [
    "from math import sqrt\n",
    "train_score = sqrt(mean_squared_error(y_train, train_predict[:, 0]))\n",
    "test_score = sqrt(mean_squared_error(y_test, test_predict[:, 0]))"
   ]
  },
  {
   "cell_type": "code",
   "execution_count": 115,
   "metadata": {},
   "outputs": [
    {
     "name": "stdout",
     "output_type": "stream",
     "text": [
      "Train score: 89.95 RMSE\n",
      "Test score: 571.12 RMSE\n"
     ]
    }
   ],
   "source": [
    "print(\"Train score: {:.2f} RMSE\".format(train_score))\n",
    "print(\"Test score: {:.2f} RMSE\".format(test_score))"
   ]
  },
  {
   "cell_type": "code",
   "execution_count": 116,
   "metadata": {
    "collapsed": true
   },
   "outputs": [],
   "source": [
    "train_predict_plot = np.empty_like(dataset)\n",
    "train_predict_plot[:] = np.nan\n",
    "train_predict_plot[look_back:len(train_predict)+look_back] = train_predict"
   ]
  },
  {
   "cell_type": "code",
   "execution_count": 117,
   "metadata": {
    "collapsed": true
   },
   "outputs": [],
   "source": [
    "test_predict_plot = np.empty_like(dataset)\n",
    "test_predict_plot[:] = np.nan\n",
    "test_predict_plot[len(train_predict)+(look_back*2)+1:len(dataset)-1] = test_predict"
   ]
  },
  {
   "cell_type": "code",
   "execution_count": 147,
   "metadata": {
    "scrolled": true
   },
   "outputs": [
    {
     "data": {
      "image/png": "[encoded data removed]",
      "text/plain": [
       "<matplotlib.figure.Figure at 0x1ba5b96e5c0>"
      ]
     },
     "metadata": {},
     "output_type": "display_data"
    }
   ],
   "source": [
    "plt.plot(dataset, c='black', label='true')\n",
    "plt.plot(train_predict_plot, c='red', label='train')\n",
    "plt.plot(test_predict_plot, c='green', label='test')\n",
    "plt.show();"
   ]
  },
  {
   "cell_type": "markdown",
   "metadata": {},
   "source": [
    "# 미래 예측하기"
   ]
  },
  {
   "cell_type": "code",
   "execution_count": 160,
   "metadata": {
    "collapsed": true
   },
   "outputs": [],
   "source": [
    "loop = 10000"
   ]
  },
  {
   "cell_type": "code",
   "execution_count": 161,
   "metadata": {
    "collapsed": true
   },
   "outputs": [],
   "source": [
    "last = X_test[-1]\n",
    "history = []\n",
    "for i in range(loop):\n",
    "    new = model.predict([last])\n",
    "    history.append(new)\n",
    "    last = new"
   ]
  },
  {
   "cell_type": "code",
   "execution_count": 162,
   "metadata": {},
   "outputs": [],
   "source": [
    "more_predict = scaler.inverse_transform([np.array(history).flatten()])"
   ]
  },
  {
   "cell_type": "code",
   "execution_count": 163,
   "metadata": {},
   "outputs": [
    {
     "data": {
      "text/plain": [
       "(10000,)"
      ]
     },
     "execution_count": 163,
     "metadata": {},
     "output_type": "execute_result"
    }
   ],
   "source": [
    "more_predict.flatten().shape"
   ]
  },
  {
   "cell_type": "code",
   "execution_count": 168,
   "metadata": {},
   "outputs": [
    {
     "data": {
      "text/plain": [
       "(34462, 1)"
      ]
     },
     "execution_count": 168,
     "metadata": {},
     "output_type": "execute_result"
    }
   ],
   "source": [
    "more_predict_plot = np.empty((dataset.shape[0] + loop, 1))\n",
    "more_predict_plot.shape"
   ]
  },
  {
   "cell_type": "code",
   "execution_count": 171,
   "metadata": {},
   "outputs": [],
   "source": [
    "more_predict_plot[:] = np.nan\n",
    "more_predict_plot[len(dataset):] = more_predict.reshape(-1, 1)"
   ]
  },
  {
   "cell_type": "code",
   "execution_count": 173,
   "metadata": {
    "scrolled": false
   },
   "outputs": [
    {
     "data": {
      "image/png": "[encoded data removed]",
      "text/plain": [
       "<matplotlib.figure.Figure at 0x1baff1064a8>"
      ]
     },
     "metadata": {},
     "output_type": "display_data"
    }
   ],
   "source": [
    "plt.plot(dataset, c='black', label='true')\n",
    "plt.plot(train_predict_plot, c='red', label='train')\n",
    "plt.plot(test_predict_plot, c='green', label='test')\n",
    "plt.plot(more_predict_plot, c='blue', label='predict')\n",
    "plt.legend()\n",
    "plt.show();"
   ]
  },
  {
   "cell_type": "markdown",
   "metadata": {},
   "source": [
    "# 결론: 무쓸모 (?)"
   ]
  }
 ],
 "metadata": {
  "kernelspec": {
   "display_name": "Python 3",
   "language": "python",
   "name": "python3"
  },
  "language_info": {
   "codemirror_mode": {
    "name": "ipython",
    "version": 3
   },
   "file_extension": ".py",
   "mimetype": "text/x-python",
   "name": "python",
   "nbconvert_exporter": "python",
   "pygments_lexer": "ipython3",
   "version": "3.5.2"
  }
 },
 "nbformat": 4,
 "nbformat_minor": 2
}
