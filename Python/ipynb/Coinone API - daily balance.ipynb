{
 "cells": [
  {
   "cell_type": "code",
   "execution_count": 1,
   "metadata": {
    "collapsed": true
   },
   "outputs": [],
   "source": [
    "data = {\n",
    "\"errorCode\": \"0\",\n",
    "\"dailyBalance\": [\n",
    "  {\n",
    "\"timestamp\": \"1494115200\",\n",
    "\"value\": \"406298\",\n",
    "\"krw\": \"54798\",\n",
    "\"btc\": \"0.00998500\"\n",
    "},\n",
    "  {\n",
    "\"timestamp\": \"1494028800\",\n",
    "\"value\": \"388962\",\n",
    "\"krw\": \"1\",\n",
    "\"btc\": \"0.00998500\"\n",
    "},\n",
    "  {\n",
    "\"timestamp\": \"1493942400\",\n",
    "\"value\": \"422683\",\n",
    "\"krw\": \"1\",\n",
    "\"btc\": \"0.00998500\"\n",
    "},\n",
    "  {\n",
    "\"timestamp\": \"1493856000\",\n",
    "\"value\": \"216914\",\n",
    "\"krw\": \"7\",\n",
    "\"btc\": \"0.00998500\"\n",
    "},\n",
    "  {\n",
    "\"timestamp\": \"1493769600\",\n",
    "\"value\": \"195291\",\n",
    "\"krw\": \"7\",\n",
    "\"btc\": \"0.00998500\"\n",
    "},\n",
    "  {\n",
    "\"timestamp\": \"1493683200\",\n",
    "\"value\": \"192343\",\n",
    "\"krw\": \"7\",\n",
    "\"btc\": \"0.00998500\"\n",
    "},\n",
    "  {\n",
    "\"timestamp\": \"1493596800\",\n",
    "\"value\": \"196799\",\n",
    "\"krw\": \"7\",\n",
    "\"btc\": \"0.00998500\"\n",
    "}\n",
    "],\n",
    "\"result\": \"success\"\n",
    "}"
   ]
  },
  {
   "cell_type": "code",
   "execution_count": 2,
   "metadata": {
    "collapsed": true
   },
   "outputs": [],
   "source": [
    "import pandas as pd\n",
    "from pandas import Series, DataFrame\n",
    "import matplotlib.pyplot as plt"
   ]
  },
  {
   "cell_type": "code",
   "execution_count": 3,
   "metadata": {
    "collapsed": false,
    "scrolled": true
   },
   "outputs": [
    {
     "data": {
      "text/plain": [
       "{'btc': '0.00998500',\n",
       " 'krw': '54798',\n",
       " 'timestamp': '1494115200',\n",
       " 'value': '406298'}"
      ]
     },
     "execution_count": 3,
     "metadata": {},
     "output_type": "execute_result"
    }
   ],
   "source": [
    "data[\"dailyBalance\"][0]"
   ]
  },
  {
   "cell_type": "code",
   "execution_count": 4,
   "metadata": {
    "collapsed": true
   },
   "outputs": [],
   "source": [
    "df = DataFrame(data[\"dailyBalance\"])"
   ]
  },
  {
   "cell_type": "code",
   "execution_count": 7,
   "metadata": {
    "collapsed": false
   },
   "outputs": [
    {
     "data": {
      "text/html": [
       "<div>\n",
       "<table border=\"1\" class=\"dataframe\">\n",
       "  <thead>\n",
       "    <tr style=\"text-align: right;\">\n",
       "      <th></th>\n",
       "      <th>btc</th>\n",
       "      <th>krw</th>\n",
       "      <th>timestamp</th>\n",
       "      <th>value</th>\n",
       "    </tr>\n",
       "  </thead>\n",
       "  <tbody>\n",
       "    <tr>\n",
       "      <th>0</th>\n",
       "      <td>0.00998500</td>\n",
       "      <td>54798</td>\n",
       "      <td>1494115200</td>\n",
       "      <td>406298</td>\n",
       "    </tr>\n",
       "    <tr>\n",
       "      <th>1</th>\n",
       "      <td>0.00998500</td>\n",
       "      <td>1</td>\n",
       "      <td>1494028800</td>\n",
       "      <td>388962</td>\n",
       "    </tr>\n",
       "    <tr>\n",
       "      <th>2</th>\n",
       "      <td>0.00998500</td>\n",
       "      <td>1</td>\n",
       "      <td>1493942400</td>\n",
       "      <td>422683</td>\n",
       "    </tr>\n",
       "    <tr>\n",
       "      <th>3</th>\n",
       "      <td>0.00998500</td>\n",
       "      <td>7</td>\n",
       "      <td>1493856000</td>\n",
       "      <td>216914</td>\n",
       "    </tr>\n",
       "    <tr>\n",
       "      <th>4</th>\n",
       "      <td>0.00998500</td>\n",
       "      <td>7</td>\n",
       "      <td>1493769600</td>\n",
       "      <td>195291</td>\n",
       "    </tr>\n",
       "    <tr>\n",
       "      <th>5</th>\n",
       "      <td>0.00998500</td>\n",
       "      <td>7</td>\n",
       "      <td>1493683200</td>\n",
       "      <td>192343</td>\n",
       "    </tr>\n",
       "    <tr>\n",
       "      <th>6</th>\n",
       "      <td>0.00998500</td>\n",
       "      <td>7</td>\n",
       "      <td>1493596800</td>\n",
       "      <td>196799</td>\n",
       "    </tr>\n",
       "  </tbody>\n",
       "</table>\n",
       "</div>"
      ],
      "text/plain": [
       "          btc    krw   timestamp   value\n",
       "0  0.00998500  54798  1494115200  406298\n",
       "1  0.00998500      1  1494028800  388962\n",
       "2  0.00998500      1  1493942400  422683\n",
       "3  0.00998500      7  1493856000  216914\n",
       "4  0.00998500      7  1493769600  195291\n",
       "5  0.00998500      7  1493683200  192343\n",
       "6  0.00998500      7  1493596800  196799"
      ]
     },
     "execution_count": 7,
     "metadata": {},
     "output_type": "execute_result"
    }
   ],
   "source": [
    "df"
   ]
  },
  {
   "cell_type": "code",
   "execution_count": 16,
   "metadata": {
    "collapsed": false
   },
   "outputs": [],
   "source": [
    "from datetime import datetime"
   ]
  },
  {
   "cell_type": "code",
   "execution_count": 17,
   "metadata": {
    "collapsed": false,
    "scrolled": true
   },
   "outputs": [
    {
     "data": {
      "text/plain": [
       "datetime.datetime(2017, 5, 7, 9, 0)"
      ]
     },
     "execution_count": 17,
     "metadata": {},
     "output_type": "execute_result"
    }
   ],
   "source": [
    "datetime.fromtimestamp(1494115200)"
   ]
  },
  {
   "cell_type": "code",
   "execution_count": 21,
   "metadata": {
    "collapsed": false
   },
   "outputs": [
    {
     "data": {
      "text/plain": [
       "0   2017-05-07 09:00:00\n",
       "1   2017-05-06 09:00:00\n",
       "2   2017-05-05 09:00:00\n",
       "3   2017-05-04 09:00:00\n",
       "4   2017-05-03 09:00:00\n",
       "5   2017-05-02 09:00:00\n",
       "6   2017-05-01 09:00:00\n",
       "Name: timestamp, dtype: datetime64[ns]"
      ]
     },
     "execution_count": 21,
     "metadata": {},
     "output_type": "execute_result"
    }
   ],
   "source": [
    "dates = df[\"timestamp\"].astype(float).apply(datetime.fromtimestamp)\n",
    "dates"
   ]
  },
  {
   "cell_type": "code",
   "execution_count": 22,
   "metadata": {
    "collapsed": true
   },
   "outputs": [],
   "source": [
    "df.index = dates"
   ]
  },
  {
   "cell_type": "code",
   "execution_count": 23,
   "metadata": {
    "collapsed": false,
    "scrolled": false
   },
   "outputs": [
    {
     "data": {
      "text/html": [
       "<div>\n",
       "<table border=\"1\" class=\"dataframe\">\n",
       "  <thead>\n",
       "    <tr style=\"text-align: right;\">\n",
       "      <th></th>\n",
       "      <th>btc</th>\n",
       "      <th>krw</th>\n",
       "      <th>timestamp</th>\n",
       "      <th>value</th>\n",
       "    </tr>\n",
       "    <tr>\n",
       "      <th>timestamp</th>\n",
       "      <th></th>\n",
       "      <th></th>\n",
       "      <th></th>\n",
       "      <th></th>\n",
       "    </tr>\n",
       "  </thead>\n",
       "  <tbody>\n",
       "    <tr>\n",
       "      <th>2017-05-07 09:00:00</th>\n",
       "      <td>0.00998500</td>\n",
       "      <td>54798</td>\n",
       "      <td>1494115200</td>\n",
       "      <td>406298</td>\n",
       "    </tr>\n",
       "    <tr>\n",
       "      <th>2017-05-06 09:00:00</th>\n",
       "      <td>0.00998500</td>\n",
       "      <td>1</td>\n",
       "      <td>1494028800</td>\n",
       "      <td>388962</td>\n",
       "    </tr>\n",
       "    <tr>\n",
       "      <th>2017-05-05 09:00:00</th>\n",
       "      <td>0.00998500</td>\n",
       "      <td>1</td>\n",
       "      <td>1493942400</td>\n",
       "      <td>422683</td>\n",
       "    </tr>\n",
       "    <tr>\n",
       "      <th>2017-05-04 09:00:00</th>\n",
       "      <td>0.00998500</td>\n",
       "      <td>7</td>\n",
       "      <td>1493856000</td>\n",
       "      <td>216914</td>\n",
       "    </tr>\n",
       "    <tr>\n",
       "      <th>2017-05-03 09:00:00</th>\n",
       "      <td>0.00998500</td>\n",
       "      <td>7</td>\n",
       "      <td>1493769600</td>\n",
       "      <td>195291</td>\n",
       "    </tr>\n",
       "    <tr>\n",
       "      <th>2017-05-02 09:00:00</th>\n",
       "      <td>0.00998500</td>\n",
       "      <td>7</td>\n",
       "      <td>1493683200</td>\n",
       "      <td>192343</td>\n",
       "    </tr>\n",
       "    <tr>\n",
       "      <th>2017-05-01 09:00:00</th>\n",
       "      <td>0.00998500</td>\n",
       "      <td>7</td>\n",
       "      <td>1493596800</td>\n",
       "      <td>196799</td>\n",
       "    </tr>\n",
       "  </tbody>\n",
       "</table>\n",
       "</div>"
      ],
      "text/plain": [
       "                            btc    krw   timestamp   value\n",
       "timestamp                                                 \n",
       "2017-05-07 09:00:00  0.00998500  54798  1494115200  406298\n",
       "2017-05-06 09:00:00  0.00998500      1  1494028800  388962\n",
       "2017-05-05 09:00:00  0.00998500      1  1493942400  422683\n",
       "2017-05-04 09:00:00  0.00998500      7  1493856000  216914\n",
       "2017-05-03 09:00:00  0.00998500      7  1493769600  195291\n",
       "2017-05-02 09:00:00  0.00998500      7  1493683200  192343\n",
       "2017-05-01 09:00:00  0.00998500      7  1493596800  196799"
      ]
     },
     "execution_count": 23,
     "metadata": {},
     "output_type": "execute_result"
    }
   ],
   "source": [
    "df"
   ]
  },
  {
   "cell_type": "code",
   "execution_count": 42,
   "metadata": {
    "collapsed": false,
    "scrolled": true
   },
   "outputs": [
    {
     "data": {
      "text/html": [
       "<div>\n",
       "<table border=\"1\" class=\"dataframe\">\n",
       "  <thead>\n",
       "    <tr style=\"text-align: right;\">\n",
       "      <th></th>\n",
       "      <th>btc</th>\n",
       "      <th>krw</th>\n",
       "      <th>timestamp</th>\n",
       "      <th>value</th>\n",
       "    </tr>\n",
       "    <tr>\n",
       "      <th>timestamp</th>\n",
       "      <th></th>\n",
       "      <th></th>\n",
       "      <th></th>\n",
       "      <th></th>\n",
       "    </tr>\n",
       "  </thead>\n",
       "  <tbody>\n",
       "    <tr>\n",
       "      <th>2017-05-01 09:00:00</th>\n",
       "      <td>0.00998500</td>\n",
       "      <td>7</td>\n",
       "      <td>1493596800</td>\n",
       "      <td>196799</td>\n",
       "    </tr>\n",
       "    <tr>\n",
       "      <th>2017-05-02 09:00:00</th>\n",
       "      <td>0.00998500</td>\n",
       "      <td>7</td>\n",
       "      <td>1493683200</td>\n",
       "      <td>192343</td>\n",
       "    </tr>\n",
       "    <tr>\n",
       "      <th>2017-05-03 09:00:00</th>\n",
       "      <td>0.00998500</td>\n",
       "      <td>7</td>\n",
       "      <td>1493769600</td>\n",
       "      <td>195291</td>\n",
       "    </tr>\n",
       "    <tr>\n",
       "      <th>2017-05-04 09:00:00</th>\n",
       "      <td>0.00998500</td>\n",
       "      <td>7</td>\n",
       "      <td>1493856000</td>\n",
       "      <td>216914</td>\n",
       "    </tr>\n",
       "    <tr>\n",
       "      <th>2017-05-05 09:00:00</th>\n",
       "      <td>0.00998500</td>\n",
       "      <td>1</td>\n",
       "      <td>1493942400</td>\n",
       "      <td>422683</td>\n",
       "    </tr>\n",
       "    <tr>\n",
       "      <th>2017-05-06 09:00:00</th>\n",
       "      <td>0.00998500</td>\n",
       "      <td>1</td>\n",
       "      <td>1494028800</td>\n",
       "      <td>388962</td>\n",
       "    </tr>\n",
       "    <tr>\n",
       "      <th>2017-05-07 09:00:00</th>\n",
       "      <td>0.00998500</td>\n",
       "      <td>54798</td>\n",
       "      <td>1494115200</td>\n",
       "      <td>406298</td>\n",
       "    </tr>\n",
       "  </tbody>\n",
       "</table>\n",
       "</div>"
      ],
      "text/plain": [
       "                            btc    krw   timestamp   value\n",
       "timestamp                                                 \n",
       "2017-05-01 09:00:00  0.00998500      7  1493596800  196799\n",
       "2017-05-02 09:00:00  0.00998500      7  1493683200  192343\n",
       "2017-05-03 09:00:00  0.00998500      7  1493769600  195291\n",
       "2017-05-04 09:00:00  0.00998500      7  1493856000  216914\n",
       "2017-05-05 09:00:00  0.00998500      1  1493942400  422683\n",
       "2017-05-06 09:00:00  0.00998500      1  1494028800  388962\n",
       "2017-05-07 09:00:00  0.00998500  54798  1494115200  406298"
      ]
     },
     "execution_count": 42,
     "metadata": {},
     "output_type": "execute_result"
    }
   ],
   "source": [
    "df.sort_index()"
   ]
  },
  {
   "cell_type": "code",
   "execution_count": 45,
   "metadata": {
    "collapsed": true
   },
   "outputs": [],
   "source": [
    "df = df.sort_index()"
   ]
  },
  {
   "cell_type": "code",
   "execution_count": 49,
   "metadata": {
    "collapsed": false
   },
   "outputs": [
    {
     "data": {
      "text/plain": [
       "timestamp\n",
       "2017-05-01 09:00:00    196799\n",
       "2017-05-02 09:00:00    192343\n",
       "2017-05-03 09:00:00    195291\n",
       "2017-05-04 09:00:00    216914\n",
       "2017-05-05 09:00:00    422683\n",
       "2017-05-06 09:00:00    388962\n",
       "2017-05-07 09:00:00    406298\n",
       "Name: value, dtype: object"
      ]
     },
     "execution_count": 49,
     "metadata": {},
     "output_type": "execute_result"
    }
   ],
   "source": [
    "df.ix[:, -1]"
   ]
  },
  {
   "cell_type": "code",
   "execution_count": 56,
   "metadata": {
    "collapsed": false
   },
   "outputs": [
    {
     "data": {
      "image/png": "[encoded data removed]",
      "text/plain": [
       "<matplotlib.figure.Figure at 0x1fceba80c18>"
      ]
     },
     "metadata": {},
     "output_type": "display_data"
    }
   ],
   "source": [
    "plt.plot(df.ix[:, -1])\n",
    "plt.title(\"Total Value from 2017/05/01\")\n",
    "plt.xticks(df.index, [\"5/1\", \"5/2\", \"5/3\", \"5/4\", \"5/5\", \"5/6\", \"5/7\"])\n",
    "plt.xlabel(\"date\")\n",
    "plt.ylabel(\"krw\")\n",
    "plt.grid()\n",
    "plt.show();"
   ]
  }
 ],
 "metadata": {
  "kernelspec": {
   "display_name": "Python 3",
   "language": "python",
   "name": "python3"
  },
  "language_info": {
   "codemirror_mode": {
    "name": "ipython",
    "version": 3
   },
   "file_extension": ".py",
   "mimetype": "text/x-python",
   "name": "python",
   "nbconvert_exporter": "python",
   "pygments_lexer": "ipython3",
   "version": "3.5.2"
  }
 },
 "nbformat": 4,
 "nbformat_minor": 2
}
