{
 "cells": [
  {
   "cell_type": "code",
   "execution_count": 2,
   "metadata": {
    "collapsed": true
   },
   "outputs": [],
   "source": [
    "import pandas as pd\n",
    "import numpy as np\n",
    "import matplotlib.pyplot as plt\n",
    "from pandas import DataFrame, Series\n",
    "%matplotlib inline"
   ]
  },
  {
   "cell_type": "code",
   "execution_count": 3,
   "metadata": {
    "collapsed": true
   },
   "outputs": [],
   "source": [
    "df = pd.read_csv(\"log.csv\")"
   ]
  },
  {
   "cell_type": "code",
   "execution_count": 4,
   "metadata": {
    "collapsed": false,
    "scrolled": true
   },
   "outputs": [
    {
     "data": {
      "text/html": [
       "<div>\n",
       "<table border=\"1\" class=\"dataframe\">\n",
       "  <thead>\n",
       "    <tr style=\"text-align: right;\">\n",
       "      <th></th>\n",
       "      <th>date</th>\n",
       "      <th>base</th>\n",
       "      <th>coinone_eth</th>\n",
       "      <th>exchanged_eth</th>\n",
       "      <th>sent_eth</th>\n",
       "      <th>polo_eth</th>\n",
       "      <th>exchanged_btc</th>\n",
       "      <th>polo_xrp</th>\n",
       "      <th>exchanged_xrp</th>\n",
       "      <th>coinone_xrp</th>\n",
       "      <th>final</th>\n",
       "      <th>profit</th>\n",
       "      <th>rate</th>\n",
       "    </tr>\n",
       "  </thead>\n",
       "  <tbody>\n",
       "    <tr>\n",
       "      <th>0</th>\n",
       "      <td>2017-05-13 22:37</td>\n",
       "      <td>1000000</td>\n",
       "      <td>112850</td>\n",
       "      <td>8.848028</td>\n",
       "      <td>8.838028</td>\n",
       "      <td>0.05068</td>\n",
       "      <td>0.447239</td>\n",
       "      <td>0.000121</td>\n",
       "      <td>3680.307822</td>\n",
       "      <td>278</td>\n",
       "      <td>1.021591e+06</td>\n",
       "      <td>21590.886020</td>\n",
       "      <td>2.159089</td>\n",
       "    </tr>\n",
       "    <tr>\n",
       "      <th>1</th>\n",
       "      <td>2017-05-13 22:37</td>\n",
       "      <td>1000000</td>\n",
       "      <td>112850</td>\n",
       "      <td>8.848028</td>\n",
       "      <td>8.838028</td>\n",
       "      <td>0.05068</td>\n",
       "      <td>0.447239</td>\n",
       "      <td>0.000121</td>\n",
       "      <td>3680.307822</td>\n",
       "      <td>278</td>\n",
       "      <td>1.021591e+06</td>\n",
       "      <td>21590.886020</td>\n",
       "      <td>2.159089</td>\n",
       "    </tr>\n",
       "    <tr>\n",
       "      <th>2</th>\n",
       "      <td>2017-05-13 22:37</td>\n",
       "      <td>1000000</td>\n",
       "      <td>112850</td>\n",
       "      <td>8.848028</td>\n",
       "      <td>8.838028</td>\n",
       "      <td>0.04950</td>\n",
       "      <td>0.436826</td>\n",
       "      <td>0.000121</td>\n",
       "      <td>3594.618666</td>\n",
       "      <td>279</td>\n",
       "      <td>1.001394e+06</td>\n",
       "      <td>1394.259766</td>\n",
       "      <td>0.139426</td>\n",
       "    </tr>\n",
       "    <tr>\n",
       "      <th>3</th>\n",
       "      <td>2017-05-13 22:37</td>\n",
       "      <td>1000000</td>\n",
       "      <td>112850</td>\n",
       "      <td>8.848028</td>\n",
       "      <td>8.838028</td>\n",
       "      <td>0.04950</td>\n",
       "      <td>0.436826</td>\n",
       "      <td>0.000125</td>\n",
       "      <td>3476.574437</td>\n",
       "      <td>279</td>\n",
       "      <td>9.685093e+05</td>\n",
       "      <td>-31490.678460</td>\n",
       "      <td>-3.149068</td>\n",
       "    </tr>\n",
       "    <tr>\n",
       "      <th>4</th>\n",
       "      <td>2017-05-13 22:37</td>\n",
       "      <td>1000000</td>\n",
       "      <td>112850</td>\n",
       "      <td>8.848028</td>\n",
       "      <td>8.838028</td>\n",
       "      <td>0.04950</td>\n",
       "      <td>0.436826</td>\n",
       "      <td>0.000125</td>\n",
       "      <td>3476.574437</td>\n",
       "      <td>279</td>\n",
       "      <td>9.685093e+05</td>\n",
       "      <td>-31490.678460</td>\n",
       "      <td>-3.149068</td>\n",
       "    </tr>\n",
       "  </tbody>\n",
       "</table>\n",
       "</div>"
      ],
      "text/plain": [
       "               date     base  coinone_eth  exchanged_eth  sent_eth  polo_eth  \\\n",
       "0  2017-05-13 22:37  1000000       112850       8.848028  8.838028   0.05068   \n",
       "1  2017-05-13 22:37  1000000       112850       8.848028  8.838028   0.05068   \n",
       "2  2017-05-13 22:37  1000000       112850       8.848028  8.838028   0.04950   \n",
       "3  2017-05-13 22:37  1000000       112850       8.848028  8.838028   0.04950   \n",
       "4  2017-05-13 22:37  1000000       112850       8.848028  8.838028   0.04950   \n",
       "\n",
       "   exchanged_btc  polo_xrp  exchanged_xrp  coinone_xrp         final  \\\n",
       "0       0.447239  0.000121    3680.307822          278  1.021591e+06   \n",
       "1       0.447239  0.000121    3680.307822          278  1.021591e+06   \n",
       "2       0.436826  0.000121    3594.618666          279  1.001394e+06   \n",
       "3       0.436826  0.000125    3476.574437          279  9.685093e+05   \n",
       "4       0.436826  0.000125    3476.574437          279  9.685093e+05   \n",
       "\n",
       "         profit      rate  \n",
       "0  21590.886020  2.159089  \n",
       "1  21590.886020  2.159089  \n",
       "2   1394.259766  0.139426  \n",
       "3 -31490.678460 -3.149068  \n",
       "4 -31490.678460 -3.149068  "
      ]
     },
     "execution_count": 4,
     "metadata": {},
     "output_type": "execute_result"
    }
   ],
   "source": [
    "df.head()"
   ]
  },
  {
   "cell_type": "code",
   "execution_count": 6,
   "metadata": {
    "collapsed": false
   },
   "outputs": [],
   "source": [
    "pf_df = df[df[\"rate\"] > 0]"
   ]
  },
  {
   "cell_type": "code",
   "execution_count": 11,
   "metadata": {
    "collapsed": false
   },
   "outputs": [
    {
     "data": {
      "text/html": [
       "<div>\n",
       "<table border=\"1\" class=\"dataframe\">\n",
       "  <thead>\n",
       "    <tr style=\"text-align: right;\">\n",
       "      <th></th>\n",
       "      <th>coinone_eth</th>\n",
       "      <th>polo_eth</th>\n",
       "      <th>polo_xrp</th>\n",
       "      <th>coinone_xrp</th>\n",
       "      <th>rate</th>\n",
       "    </tr>\n",
       "  </thead>\n",
       "  <tbody>\n",
       "    <tr>\n",
       "      <th>0</th>\n",
       "      <td>112850</td>\n",
       "      <td>0.05068</td>\n",
       "      <td>0.000121</td>\n",
       "      <td>278</td>\n",
       "      <td>2.159089</td>\n",
       "    </tr>\n",
       "    <tr>\n",
       "      <th>1</th>\n",
       "      <td>112850</td>\n",
       "      <td>0.05068</td>\n",
       "      <td>0.000121</td>\n",
       "      <td>278</td>\n",
       "      <td>2.159089</td>\n",
       "    </tr>\n",
       "    <tr>\n",
       "      <th>2</th>\n",
       "      <td>112850</td>\n",
       "      <td>0.04950</td>\n",
       "      <td>0.000121</td>\n",
       "      <td>279</td>\n",
       "      <td>0.139426</td>\n",
       "    </tr>\n",
       "    <tr>\n",
       "      <th>14</th>\n",
       "      <td>112850</td>\n",
       "      <td>0.04950</td>\n",
       "      <td>0.000118</td>\n",
       "      <td>280</td>\n",
       "      <td>3.325450</td>\n",
       "    </tr>\n",
       "    <tr>\n",
       "      <th>15</th>\n",
       "      <td>112850</td>\n",
       "      <td>0.04950</td>\n",
       "      <td>0.000116</td>\n",
       "      <td>280</td>\n",
       "      <td>4.808506</td>\n",
       "    </tr>\n",
       "  </tbody>\n",
       "</table>\n",
       "</div>"
      ],
      "text/plain": [
       "    coinone_eth  polo_eth  polo_xrp  coinone_xrp      rate\n",
       "0        112850   0.05068  0.000121          278  2.159089\n",
       "1        112850   0.05068  0.000121          278  2.159089\n",
       "2        112850   0.04950  0.000121          279  0.139426\n",
       "14       112850   0.04950  0.000118          280  3.325450\n",
       "15       112850   0.04950  0.000116          280  4.808506"
      ]
     },
     "execution_count": 11,
     "metadata": {},
     "output_type": "execute_result"
    }
   ],
   "source": [
    "df2 = pf_df.ix[:, [2, 5, 7, 9, -1]]\n",
    "df2.head()"
   ]
  },
  {
   "cell_type": "code",
   "execution_count": 13,
   "metadata": {
    "collapsed": false,
    "scrolled": true
   },
   "outputs": [
    {
     "data": {
      "text/html": [
       "<div>\n",
       "<table border=\"1\" class=\"dataframe\">\n",
       "  <thead>\n",
       "    <tr style=\"text-align: right;\">\n",
       "      <th></th>\n",
       "      <th>coinone_eth</th>\n",
       "      <th>polo_eth</th>\n",
       "      <th>polo_xrp</th>\n",
       "      <th>coinone_xrp</th>\n",
       "      <th>rate</th>\n",
       "    </tr>\n",
       "  </thead>\n",
       "  <tbody>\n",
       "    <tr>\n",
       "      <th>count</th>\n",
       "      <td>5258.000000</td>\n",
       "      <td>5258.000000</td>\n",
       "      <td>5258.000000</td>\n",
       "      <td>5258.000000</td>\n",
       "      <td>5258.000000</td>\n",
       "    </tr>\n",
       "    <tr>\n",
       "      <th>mean</th>\n",
       "      <td>112880.334728</td>\n",
       "      <td>0.049609</td>\n",
       "      <td>0.000119</td>\n",
       "      <td>278.513884</td>\n",
       "      <td>1.809964</td>\n",
       "    </tr>\n",
       "    <tr>\n",
       "      <th>std</th>\n",
       "      <td>369.606058</td>\n",
       "      <td>0.000426</td>\n",
       "      <td>0.000003</td>\n",
       "      <td>2.802805</td>\n",
       "      <td>2.642866</td>\n",
       "    </tr>\n",
       "    <tr>\n",
       "      <th>min</th>\n",
       "      <td>112150.000000</td>\n",
       "      <td>0.048500</td>\n",
       "      <td>0.000103</td>\n",
       "      <td>270.000000</td>\n",
       "      <td>0.000109</td>\n",
       "    </tr>\n",
       "    <tr>\n",
       "      <th>25%</th>\n",
       "      <td>112600.000000</td>\n",
       "      <td>0.049350</td>\n",
       "      <td>0.000119</td>\n",
       "      <td>277.000000</td>\n",
       "      <td>0.579324</td>\n",
       "    </tr>\n",
       "    <tr>\n",
       "      <th>50%</th>\n",
       "      <td>112850.000000</td>\n",
       "      <td>0.049600</td>\n",
       "      <td>0.000120</td>\n",
       "      <td>278.000000</td>\n",
       "      <td>1.102785</td>\n",
       "    </tr>\n",
       "    <tr>\n",
       "      <th>75%</th>\n",
       "      <td>113200.000000</td>\n",
       "      <td>0.049914</td>\n",
       "      <td>0.000121</td>\n",
       "      <td>280.000000</td>\n",
       "      <td>1.751976</td>\n",
       "    </tr>\n",
       "    <tr>\n",
       "      <th>max</th>\n",
       "      <td>114000.000000</td>\n",
       "      <td>0.050914</td>\n",
       "      <td>0.000125</td>\n",
       "      <td>288.000000</td>\n",
       "      <td>18.840864</td>\n",
       "    </tr>\n",
       "  </tbody>\n",
       "</table>\n",
       "</div>"
      ],
      "text/plain": [
       "         coinone_eth     polo_eth     polo_xrp  coinone_xrp         rate\n",
       "count    5258.000000  5258.000000  5258.000000  5258.000000  5258.000000\n",
       "mean   112880.334728     0.049609     0.000119   278.513884     1.809964\n",
       "std       369.606058     0.000426     0.000003     2.802805     2.642866\n",
       "min    112150.000000     0.048500     0.000103   270.000000     0.000109\n",
       "25%    112600.000000     0.049350     0.000119   277.000000     0.579324\n",
       "50%    112850.000000     0.049600     0.000120   278.000000     1.102785\n",
       "75%    113200.000000     0.049914     0.000121   280.000000     1.751976\n",
       "max    114000.000000     0.050914     0.000125   288.000000    18.840864"
      ]
     },
     "execution_count": 13,
     "metadata": {},
     "output_type": "execute_result"
    }
   ],
   "source": [
    "df2.describe()"
   ]
  },
  {
   "cell_type": "code",
   "execution_count": 17,
   "metadata": {
    "collapsed": false
   },
   "outputs": [
    {
     "data": {
      "text/html": [
       "<div>\n",
       "<table border=\"1\" class=\"dataframe\">\n",
       "  <thead>\n",
       "    <tr style=\"text-align: right;\">\n",
       "      <th></th>\n",
       "      <th>coinone_eth</th>\n",
       "      <th>polo_eth</th>\n",
       "      <th>polo_xrp</th>\n",
       "      <th>coinone_xrp</th>\n",
       "      <th>rate</th>\n",
       "    </tr>\n",
       "  </thead>\n",
       "  <tbody>\n",
       "    <tr>\n",
       "      <th>2</th>\n",
       "      <td>112850</td>\n",
       "      <td>0.0495</td>\n",
       "      <td>0.000121</td>\n",
       "      <td>279</td>\n",
       "      <td>0.139426</td>\n",
       "    </tr>\n",
       "    <tr>\n",
       "      <th>334</th>\n",
       "      <td>112850</td>\n",
       "      <td>0.0495</td>\n",
       "      <td>0.000119</td>\n",
       "      <td>274</td>\n",
       "      <td>0.303938</td>\n",
       "    </tr>\n",
       "    <tr>\n",
       "      <th>335</th>\n",
       "      <td>112850</td>\n",
       "      <td>0.0495</td>\n",
       "      <td>0.000119</td>\n",
       "      <td>274</td>\n",
       "      <td>0.303938</td>\n",
       "    </tr>\n",
       "    <tr>\n",
       "      <th>336</th>\n",
       "      <td>113000</td>\n",
       "      <td>0.0495</td>\n",
       "      <td>0.000119</td>\n",
       "      <td>274</td>\n",
       "      <td>0.170641</td>\n",
       "    </tr>\n",
       "    <tr>\n",
       "      <th>337</th>\n",
       "      <td>113000</td>\n",
       "      <td>0.0495</td>\n",
       "      <td>0.000119</td>\n",
       "      <td>274</td>\n",
       "      <td>0.170641</td>\n",
       "    </tr>\n",
       "  </tbody>\n",
       "</table>\n",
       "</div>"
      ],
      "text/plain": [
       "     coinone_eth  polo_eth  polo_xrp  coinone_xrp      rate\n",
       "2         112850    0.0495  0.000121          279  0.139426\n",
       "334       112850    0.0495  0.000119          274  0.303938\n",
       "335       112850    0.0495  0.000119          274  0.303938\n",
       "336       113000    0.0495  0.000119          274  0.170641\n",
       "337       113000    0.0495  0.000119          274  0.170641"
      ]
     },
     "execution_count": 17,
     "metadata": {},
     "output_type": "execute_result"
    }
   ],
   "source": [
    "low_rate = df2[df2[\"rate\"] < 1.102785]\n",
    "low_rate.head()"
   ]
  },
  {
   "cell_type": "code",
   "execution_count": 26,
   "metadata": {
    "collapsed": false,
    "scrolled": false
   },
   "outputs": [
    {
     "data": {
      "text/html": [
       "<div>\n",
       "<table border=\"1\" class=\"dataframe\">\n",
       "  <thead>\n",
       "    <tr style=\"text-align: right;\">\n",
       "      <th></th>\n",
       "      <th>coinone_eth</th>\n",
       "      <th>polo_eth</th>\n",
       "      <th>polo_xrp</th>\n",
       "      <th>coinone_xrp</th>\n",
       "      <th>rate</th>\n",
       "    </tr>\n",
       "  </thead>\n",
       "  <tbody>\n",
       "    <tr>\n",
       "      <th>0</th>\n",
       "      <td>112850</td>\n",
       "      <td>0.05068</td>\n",
       "      <td>0.000121</td>\n",
       "      <td>278</td>\n",
       "      <td>2.159089</td>\n",
       "    </tr>\n",
       "    <tr>\n",
       "      <th>1</th>\n",
       "      <td>112850</td>\n",
       "      <td>0.05068</td>\n",
       "      <td>0.000121</td>\n",
       "      <td>278</td>\n",
       "      <td>2.159089</td>\n",
       "    </tr>\n",
       "    <tr>\n",
       "      <th>14</th>\n",
       "      <td>112850</td>\n",
       "      <td>0.04950</td>\n",
       "      <td>0.000118</td>\n",
       "      <td>280</td>\n",
       "      <td>3.325450</td>\n",
       "    </tr>\n",
       "    <tr>\n",
       "      <th>15</th>\n",
       "      <td>112850</td>\n",
       "      <td>0.04950</td>\n",
       "      <td>0.000116</td>\n",
       "      <td>280</td>\n",
       "      <td>4.808506</td>\n",
       "    </tr>\n",
       "    <tr>\n",
       "      <th>16</th>\n",
       "      <td>112850</td>\n",
       "      <td>0.04950</td>\n",
       "      <td>0.000116</td>\n",
       "      <td>280</td>\n",
       "      <td>4.808506</td>\n",
       "    </tr>\n",
       "  </tbody>\n",
       "</table>\n",
       "</div>"
      ],
      "text/plain": [
       "    coinone_eth  polo_eth  polo_xrp  coinone_xrp      rate\n",
       "0        112850   0.05068  0.000121          278  2.159089\n",
       "1        112850   0.05068  0.000121          278  2.159089\n",
       "14       112850   0.04950  0.000118          280  3.325450\n",
       "15       112850   0.04950  0.000116          280  4.808506\n",
       "16       112850   0.04950  0.000116          280  4.808506"
      ]
     },
     "execution_count": 26,
     "metadata": {},
     "output_type": "execute_result"
    }
   ],
   "source": [
    "high_rate = df2[df2[\"rate\"] >= 1.102785]\n",
    "high_rate = high_rate[high_rate[\"rate\"] <= 10]\n",
    "high_rate.head()"
   ]
  },
  {
   "cell_type": "code",
   "execution_count": 23,
   "metadata": {
    "collapsed": false
   },
   "outputs": [
    {
     "data": {
      "text/plain": [
       "coinone_eth    112955.306200\n",
       "polo_eth            0.049490\n",
       "polo_xrp            0.000121\n",
       "coinone_xrp       279.339673\n",
       "rate                0.571749\n",
       "Name: mean, dtype: float64"
      ]
     },
     "execution_count": 23,
     "metadata": {},
     "output_type": "execute_result"
    }
   ],
   "source": [
    "low_rate.describe().ix[1, :]"
   ]
  },
  {
   "cell_type": "code",
   "execution_count": 27,
   "metadata": {
    "collapsed": false,
    "scrolled": true
   },
   "outputs": [
    {
     "data": {
      "text/plain": [
       "coinone_eth    112803.021757\n",
       "polo_eth            0.049717\n",
       "polo_xrp            0.000119\n",
       "coinone_xrp       277.877115\n",
       "rate                2.378537\n",
       "Name: mean, dtype: float64"
      ]
     },
     "execution_count": 27,
     "metadata": {},
     "output_type": "execute_result"
    }
   ],
   "source": [
    "high_rate.describe().ix[1, :]"
   ]
  },
  {
   "cell_type": "code",
   "execution_count": 25,
   "metadata": {
    "collapsed": false,
    "scrolled": true
   },
   "outputs": [
    {
     "data": {
      "text/plain": [
       "coinone_eth    112844.897959\n",
       "polo_eth            0.049932\n",
       "polo_xrp            0.000106\n",
       "coinone_xrp       274.496599\n",
       "rate               14.354663\n",
       "Name: mean, dtype: float64"
      ]
     },
     "execution_count": 25,
     "metadata": {},
     "output_type": "execute_result"
    }
   ],
   "source": [
    "very_high_rate = high_rate[high_rate[\"rate\"] > 10]\n",
    "very_high_rate.describe().ix[1, :]"
   ]
  },
  {
   "cell_type": "markdown",
   "metadata": {},
   "source": [
    "결론 : 코인원과 폴로의 리플 시세가 낮고 폴로의 이더가격이 높을 때 하자?!"
   ]
  }
 ],
 "metadata": {
  "kernelspec": {
   "display_name": "Python 3",
   "language": "python",
   "name": "python3"
  },
  "language_info": {
   "codemirror_mode": {
    "name": "ipython",
    "version": 3
   },
   "file_extension": ".py",
   "mimetype": "text/x-python",
   "name": "python",
   "nbconvert_exporter": "python",
   "pygments_lexer": "ipython3",
   "version": "3.5.2"
  }
 },
 "nbformat": 4,
 "nbformat_minor": 2
}
