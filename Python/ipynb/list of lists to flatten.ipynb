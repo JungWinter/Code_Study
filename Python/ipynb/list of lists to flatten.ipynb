{
 "cells": [
  {
   "cell_type": "code",
   "execution_count": 1,
   "metadata": {
    "collapsed": true,
    "deletable": true,
    "editable": true
   },
   "outputs": [],
   "source": [
    "import numpy as np\n",
    "import matplotlib.pyplot as plt\n",
    "from itertools import chain\n",
    "\n",
    "list_of_lists = [[x, 0] for x in range(1000)]\n",
    "n_lol = np.array(list_of_lists)"
   ]
  },
  {
   "cell_type": "code",
   "execution_count": 3,
   "metadata": {
    "collapsed": false,
    "deletable": true,
    "editable": true
   },
   "outputs": [
    {
     "name": "stdout",
     "output_type": "stream",
     "text": [
      "100 loops, best of 3: 2.16 ms per loop\n",
      "10000 loops, best of 3: 55.8 µs per loop\n",
      "10000 loops, best of 3: 50.9 µs per loop\n",
      "10000 loops, best of 3: 78.8 µs per loop\n",
      "The slowest run took 10.28 times longer than the fastest. This could mean that an intermediate result is being cached.\n",
      "1000000 loops, best of 3: 782 ns per loop\n",
      "The slowest run took 18.46 times longer than the fastest. This could mean that an intermediate result is being cached.\n",
      "1000000 loops, best of 3: 720 ns per loop\n"
     ]
    }
   ],
   "source": [
    "case1 = %timeit -o sum(list_of_lists, [])\n",
    "\n",
    "case2 = %timeit -o list(chain(*list_of_lists))\n",
    "\n",
    "case3 = %timeit -o list(chain.from_iterable(list_of_lists))\n",
    "\n",
    "case4 = %timeit -o [y for x in list_of_lists for y in x]\n",
    "\n",
    "case5 = %timeit -o n_lol.reshape(-1)\n",
    "\n",
    "case6 = %timeit -o n_lol.flatten()"
   ]
  },
  {
   "cell_type": "code",
   "execution_count": 13,
   "metadata": {
    "collapsed": false
   },
   "outputs": [
    {
     "name": "stdout",
     "output_type": "stream",
     "text": [
      "The slowest run took 7.47 times longer than the fastest. This could mean that an intermediate result is being cached.\n",
      "100000 loops, best of 3: 2.81 µs per loop\n",
      "1000 loops, best of 3: 242 µs per loop\n",
      "The slowest run took 23.00 times longer than the fastest. This could mean that an intermediate result is being cached.\n",
      "1000000 loops, best of 3: 712 ns per loop\n"
     ]
    }
   ],
   "source": [
    "l = [[x, 0] for x in range(1000)]\n",
    "\n",
    "%timeit n = np.array(([x, 0] for x in range(1000)));n.flatten()\n",
    "\n",
    "%timeit n = np.array(l);n.flatten()\n",
    "\n",
    "n = np.array(l)\n",
    "%timeit n.flatten()"
   ]
  },
  {
   "cell_type": "code",
   "execution_count": 4,
   "metadata": {
    "collapsed": false
   },
   "outputs": [
    {
     "name": "stdout",
     "output_type": "stream",
     "text": [
      "10000 loops, best of 3: 168 µs per loop\n"
     ]
    }
   ],
   "source": [
    "%timeit l = [[x, 0] for x in range(1000)];list(chain(*l))"
   ]
  },
  {
   "cell_type": "code",
   "execution_count": 146,
   "metadata": {
    "collapsed": true,
    "deletable": true,
    "editable": true
   },
   "outputs": [],
   "source": [
    "results = [case1.best, case2.best, case3.best, case4.best, case5.best, case6.best]\n",
    "\n",
    "results"
   ]
  },
  {
   "cell_type": "code",
   "execution_count": 201,
   "metadata": {
    "collapsed": false,
    "deletable": true,
    "editable": true
   },
   "outputs": [
    {
     "data": {
      "image/png": "[encoded data removed]",
      "text/plain": [
       "<matplotlib.figure.Figure at 0x226d8f44588>"
      ]
     },
     "metadata": {},
     "output_type": "display_data"
    }
   ],
   "source": [
    "fig, ax = plt.subplots() \n",
    "fig.set_figwidth(7)\n",
    "fig.set_figheight(4)\n",
    "labels = [\"sum\", \"itertools.chain\", \"from_iterable\", \"Comprehension\", \"Numpy reshape\", \"Numpy flatten\"]\n",
    "for i in range(len(results)):\n",
    "    ax.barh(i, results[i], height=0.5, label=labels[i], color=\"#5990ac\")\n",
    "\n",
    "for i, v in enumerate(results):\n",
    "    ax.text(v+v/10, i-0.1, \"{:0.1f}μs\".format(v*1000000))\n",
    "\n",
    "plt.xlabel(\"second\")\n",
    "plt.xlim([10e-8, 10e-3])\n",
    "plt.xscale('log')\n",
    "plt.yticks(range(len(labels)), labels)\n",
    "plt.grid(True, axis=\"x\", linestyle=\"--\", alpha=0.5)\n",
    "plt.title(\"Performance Comparison (log scale)\", fontsize=16)\n",
    "plt.show();"
   ]
  }
 ],
 "metadata": {
  "kernelspec": {
   "display_name": "Python 3",
   "language": "python",
   "name": "python3"
  },
  "language_info": {
   "codemirror_mode": {
    "name": "ipython",
    "version": 3
   },
   "file_extension": ".py",
   "mimetype": "text/x-python",
   "name": "python",
   "nbconvert_exporter": "python",
   "pygments_lexer": "ipython3",
   "version": "3.5.2"
  }
 },
 "nbformat": 4,
 "nbformat_minor": 2
}
